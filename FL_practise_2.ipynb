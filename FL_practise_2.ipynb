{
  "nbformat": 4,
  "nbformat_minor": 0,
  "metadata": {
    "colab": {
      "provenance": [],
      "authorship_tag": "ABX9TyN5hJtwRP0JKC+j6Z52aXw4",
      "include_colab_link": true
    },
    "kernelspec": {
      "name": "python3",
      "display_name": "Python 3"
    },
    "language_info": {
      "name": "python"
    },
    "widgets": {
      "application/vnd.jupyter.widget-state+json": {
        "0ad3084d624246c19de313f55a6ae1f5": {
          "model_module": "@jupyter-widgets/controls",
          "model_name": "HBoxModel",
          "model_module_version": "1.5.0",
          "state": {
            "_dom_classes": [],
            "_model_module": "@jupyter-widgets/controls",
            "_model_module_version": "1.5.0",
            "_model_name": "HBoxModel",
            "_view_count": null,
            "_view_module": "@jupyter-widgets/controls",
            "_view_module_version": "1.5.0",
            "_view_name": "HBoxView",
            "box_style": "",
            "children": [
              "IPY_MODEL_8cd7ad3ec99b4f15a018aec07d2fcf5b",
              "IPY_MODEL_b13942489e3d40ca969af134b7dd7dce",
              "IPY_MODEL_69940a7169fd44b89e3188b10f288133"
            ],
            "layout": "IPY_MODEL_8967f41b53d2413cbcceca99f840b493"
          }
        },
        "8cd7ad3ec99b4f15a018aec07d2fcf5b": {
          "model_module": "@jupyter-widgets/controls",
          "model_name": "HTMLModel",
          "model_module_version": "1.5.0",
          "state": {
            "_dom_classes": [],
            "_model_module": "@jupyter-widgets/controls",
            "_model_module_version": "1.5.0",
            "_model_name": "HTMLModel",
            "_view_count": null,
            "_view_module": "@jupyter-widgets/controls",
            "_view_module_version": "1.5.0",
            "_view_name": "HTMLView",
            "description": "",
            "description_tooltip": null,
            "layout": "IPY_MODEL_272bc0e08add43fb9eed9d503e062310",
            "placeholder": "​",
            "style": "IPY_MODEL_e9f33e33067045c49993590751dce4fc",
            "value": ""
          }
        },
        "b13942489e3d40ca969af134b7dd7dce": {
          "model_module": "@jupyter-widgets/controls",
          "model_name": "FloatProgressModel",
          "model_module_version": "1.5.0",
          "state": {
            "_dom_classes": [],
            "_model_module": "@jupyter-widgets/controls",
            "_model_module_version": "1.5.0",
            "_model_name": "FloatProgressModel",
            "_view_count": null,
            "_view_module": "@jupyter-widgets/controls",
            "_view_module_version": "1.5.0",
            "_view_name": "ProgressView",
            "bar_style": "success",
            "description": "",
            "description_tooltip": null,
            "layout": "IPY_MODEL_f2d508f6d75646e3925e999746881f35",
            "max": 1,
            "min": 0,
            "orientation": "horizontal",
            "style": "IPY_MODEL_fbb6c05ae98149ca81fabe6ce0328acc",
            "value": 1
          }
        },
        "69940a7169fd44b89e3188b10f288133": {
          "model_module": "@jupyter-widgets/controls",
          "model_name": "HTMLModel",
          "model_module_version": "1.5.0",
          "state": {
            "_dom_classes": [],
            "_model_module": "@jupyter-widgets/controls",
            "_model_module_version": "1.5.0",
            "_model_name": "HTMLModel",
            "_view_count": null,
            "_view_module": "@jupyter-widgets/controls",
            "_view_module_version": "1.5.0",
            "_view_name": "HTMLView",
            "description": "",
            "description_tooltip": null,
            "layout": "IPY_MODEL_6386d12322b74de8ac2e3fa95b37363d",
            "placeholder": "​",
            "style": "IPY_MODEL_6c2a4fb8f7e342cd849c19d031004aa0",
            "value": " 9920512/? [00:01&lt;00:00, 29710875.93it/s]"
          }
        },
        "8967f41b53d2413cbcceca99f840b493": {
          "model_module": "@jupyter-widgets/base",
          "model_name": "LayoutModel",
          "model_module_version": "1.2.0",
          "state": {
            "_model_module": "@jupyter-widgets/base",
            "_model_module_version": "1.2.0",
            "_model_name": "LayoutModel",
            "_view_count": null,
            "_view_module": "@jupyter-widgets/base",
            "_view_module_version": "1.2.0",
            "_view_name": "LayoutView",
            "align_content": null,
            "align_items": null,
            "align_self": null,
            "border": null,
            "bottom": null,
            "display": null,
            "flex": null,
            "flex_flow": null,
            "grid_area": null,
            "grid_auto_columns": null,
            "grid_auto_flow": null,
            "grid_auto_rows": null,
            "grid_column": null,
            "grid_gap": null,
            "grid_row": null,
            "grid_template_areas": null,
            "grid_template_columns": null,
            "grid_template_rows": null,
            "height": null,
            "justify_content": null,
            "justify_items": null,
            "left": null,
            "margin": null,
            "max_height": null,
            "max_width": null,
            "min_height": null,
            "min_width": null,
            "object_fit": null,
            "object_position": null,
            "order": null,
            "overflow": null,
            "overflow_x": null,
            "overflow_y": null,
            "padding": null,
            "right": null,
            "top": null,
            "visibility": null,
            "width": null
          }
        },
        "272bc0e08add43fb9eed9d503e062310": {
          "model_module": "@jupyter-widgets/base",
          "model_name": "LayoutModel",
          "model_module_version": "1.2.0",
          "state": {
            "_model_module": "@jupyter-widgets/base",
            "_model_module_version": "1.2.0",
            "_model_name": "LayoutModel",
            "_view_count": null,
            "_view_module": "@jupyter-widgets/base",
            "_view_module_version": "1.2.0",
            "_view_name": "LayoutView",
            "align_content": null,
            "align_items": null,
            "align_self": null,
            "border": null,
            "bottom": null,
            "display": null,
            "flex": null,
            "flex_flow": null,
            "grid_area": null,
            "grid_auto_columns": null,
            "grid_auto_flow": null,
            "grid_auto_rows": null,
            "grid_column": null,
            "grid_gap": null,
            "grid_row": null,
            "grid_template_areas": null,
            "grid_template_columns": null,
            "grid_template_rows": null,
            "height": null,
            "justify_content": null,
            "justify_items": null,
            "left": null,
            "margin": null,
            "max_height": null,
            "max_width": null,
            "min_height": null,
            "min_width": null,
            "object_fit": null,
            "object_position": null,
            "order": null,
            "overflow": null,
            "overflow_x": null,
            "overflow_y": null,
            "padding": null,
            "right": null,
            "top": null,
            "visibility": null,
            "width": null
          }
        },
        "e9f33e33067045c49993590751dce4fc": {
          "model_module": "@jupyter-widgets/controls",
          "model_name": "DescriptionStyleModel",
          "model_module_version": "1.5.0",
          "state": {
            "_model_module": "@jupyter-widgets/controls",
            "_model_module_version": "1.5.0",
            "_model_name": "DescriptionStyleModel",
            "_view_count": null,
            "_view_module": "@jupyter-widgets/base",
            "_view_module_version": "1.2.0",
            "_view_name": "StyleView",
            "description_width": ""
          }
        },
        "f2d508f6d75646e3925e999746881f35": {
          "model_module": "@jupyter-widgets/base",
          "model_name": "LayoutModel",
          "model_module_version": "1.2.0",
          "state": {
            "_model_module": "@jupyter-widgets/base",
            "_model_module_version": "1.2.0",
            "_model_name": "LayoutModel",
            "_view_count": null,
            "_view_module": "@jupyter-widgets/base",
            "_view_module_version": "1.2.0",
            "_view_name": "LayoutView",
            "align_content": null,
            "align_items": null,
            "align_self": null,
            "border": null,
            "bottom": null,
            "display": null,
            "flex": null,
            "flex_flow": null,
            "grid_area": null,
            "grid_auto_columns": null,
            "grid_auto_flow": null,
            "grid_auto_rows": null,
            "grid_column": null,
            "grid_gap": null,
            "grid_row": null,
            "grid_template_areas": null,
            "grid_template_columns": null,
            "grid_template_rows": null,
            "height": null,
            "justify_content": null,
            "justify_items": null,
            "left": null,
            "margin": null,
            "max_height": null,
            "max_width": null,
            "min_height": null,
            "min_width": null,
            "object_fit": null,
            "object_position": null,
            "order": null,
            "overflow": null,
            "overflow_x": null,
            "overflow_y": null,
            "padding": null,
            "right": null,
            "top": null,
            "visibility": null,
            "width": "20px"
          }
        },
        "fbb6c05ae98149ca81fabe6ce0328acc": {
          "model_module": "@jupyter-widgets/controls",
          "model_name": "ProgressStyleModel",
          "model_module_version": "1.5.0",
          "state": {
            "_model_module": "@jupyter-widgets/controls",
            "_model_module_version": "1.5.0",
            "_model_name": "ProgressStyleModel",
            "_view_count": null,
            "_view_module": "@jupyter-widgets/base",
            "_view_module_version": "1.2.0",
            "_view_name": "StyleView",
            "bar_color": null,
            "description_width": ""
          }
        },
        "6386d12322b74de8ac2e3fa95b37363d": {
          "model_module": "@jupyter-widgets/base",
          "model_name": "LayoutModel",
          "model_module_version": "1.2.0",
          "state": {
            "_model_module": "@jupyter-widgets/base",
            "_model_module_version": "1.2.0",
            "_model_name": "LayoutModel",
            "_view_count": null,
            "_view_module": "@jupyter-widgets/base",
            "_view_module_version": "1.2.0",
            "_view_name": "LayoutView",
            "align_content": null,
            "align_items": null,
            "align_self": null,
            "border": null,
            "bottom": null,
            "display": null,
            "flex": null,
            "flex_flow": null,
            "grid_area": null,
            "grid_auto_columns": null,
            "grid_auto_flow": null,
            "grid_auto_rows": null,
            "grid_column": null,
            "grid_gap": null,
            "grid_row": null,
            "grid_template_areas": null,
            "grid_template_columns": null,
            "grid_template_rows": null,
            "height": null,
            "justify_content": null,
            "justify_items": null,
            "left": null,
            "margin": null,
            "max_height": null,
            "max_width": null,
            "min_height": null,
            "min_width": null,
            "object_fit": null,
            "object_position": null,
            "order": null,
            "overflow": null,
            "overflow_x": null,
            "overflow_y": null,
            "padding": null,
            "right": null,
            "top": null,
            "visibility": null,
            "width": null
          }
        },
        "6c2a4fb8f7e342cd849c19d031004aa0": {
          "model_module": "@jupyter-widgets/controls",
          "model_name": "DescriptionStyleModel",
          "model_module_version": "1.5.0",
          "state": {
            "_model_module": "@jupyter-widgets/controls",
            "_model_module_version": "1.5.0",
            "_model_name": "DescriptionStyleModel",
            "_view_count": null,
            "_view_module": "@jupyter-widgets/base",
            "_view_module_version": "1.2.0",
            "_view_name": "StyleView",
            "description_width": ""
          }
        },
        "41838135539344008acb6421c260bbe2": {
          "model_module": "@jupyter-widgets/controls",
          "model_name": "HBoxModel",
          "model_module_version": "1.5.0",
          "state": {
            "_dom_classes": [],
            "_model_module": "@jupyter-widgets/controls",
            "_model_module_version": "1.5.0",
            "_model_name": "HBoxModel",
            "_view_count": null,
            "_view_module": "@jupyter-widgets/controls",
            "_view_module_version": "1.5.0",
            "_view_name": "HBoxView",
            "box_style": "",
            "children": [
              "IPY_MODEL_bd3ca2bcf79148d1a8a677abaefa1f78",
              "IPY_MODEL_1f6ca6c2c5a34f8baf83b5181a8fa772",
              "IPY_MODEL_b9980e5d82534e80906c1d30fdc72c12"
            ],
            "layout": "IPY_MODEL_15fa8e7b94af4644b5c1188112a4ae54"
          }
        },
        "bd3ca2bcf79148d1a8a677abaefa1f78": {
          "model_module": "@jupyter-widgets/controls",
          "model_name": "HTMLModel",
          "model_module_version": "1.5.0",
          "state": {
            "_dom_classes": [],
            "_model_module": "@jupyter-widgets/controls",
            "_model_module_version": "1.5.0",
            "_model_name": "HTMLModel",
            "_view_count": null,
            "_view_module": "@jupyter-widgets/controls",
            "_view_module_version": "1.5.0",
            "_view_name": "HTMLView",
            "description": "",
            "description_tooltip": null,
            "layout": "IPY_MODEL_4581d28607a847f0b277ab2c9e5256bf",
            "placeholder": "​",
            "style": "IPY_MODEL_4086b1f5359046098b43231534855374",
            "value": ""
          }
        },
        "1f6ca6c2c5a34f8baf83b5181a8fa772": {
          "model_module": "@jupyter-widgets/controls",
          "model_name": "FloatProgressModel",
          "model_module_version": "1.5.0",
          "state": {
            "_dom_classes": [],
            "_model_module": "@jupyter-widgets/controls",
            "_model_module_version": "1.5.0",
            "_model_name": "FloatProgressModel",
            "_view_count": null,
            "_view_module": "@jupyter-widgets/controls",
            "_view_module_version": "1.5.0",
            "_view_name": "ProgressView",
            "bar_style": "success",
            "description": "",
            "description_tooltip": null,
            "layout": "IPY_MODEL_3c86f53c005c4b8a94a0611931c7e90d",
            "max": 1,
            "min": 0,
            "orientation": "horizontal",
            "style": "IPY_MODEL_17c3c9f390e44bc2a9a59e091a4d53ed",
            "value": 1
          }
        },
        "b9980e5d82534e80906c1d30fdc72c12": {
          "model_module": "@jupyter-widgets/controls",
          "model_name": "HTMLModel",
          "model_module_version": "1.5.0",
          "state": {
            "_dom_classes": [],
            "_model_module": "@jupyter-widgets/controls",
            "_model_module_version": "1.5.0",
            "_model_name": "HTMLModel",
            "_view_count": null,
            "_view_module": "@jupyter-widgets/controls",
            "_view_module_version": "1.5.0",
            "_view_name": "HTMLView",
            "description": "",
            "description_tooltip": null,
            "layout": "IPY_MODEL_aae74a0184c7459283bbde6ad4ec95e5",
            "placeholder": "​",
            "style": "IPY_MODEL_da59f8bc70fe4c25a5675ec38fb94518",
            "value": " 32768/? [00:00&lt;00:00, 364524.75it/s]"
          }
        },
        "15fa8e7b94af4644b5c1188112a4ae54": {
          "model_module": "@jupyter-widgets/base",
          "model_name": "LayoutModel",
          "model_module_version": "1.2.0",
          "state": {
            "_model_module": "@jupyter-widgets/base",
            "_model_module_version": "1.2.0",
            "_model_name": "LayoutModel",
            "_view_count": null,
            "_view_module": "@jupyter-widgets/base",
            "_view_module_version": "1.2.0",
            "_view_name": "LayoutView",
            "align_content": null,
            "align_items": null,
            "align_self": null,
            "border": null,
            "bottom": null,
            "display": null,
            "flex": null,
            "flex_flow": null,
            "grid_area": null,
            "grid_auto_columns": null,
            "grid_auto_flow": null,
            "grid_auto_rows": null,
            "grid_column": null,
            "grid_gap": null,
            "grid_row": null,
            "grid_template_areas": null,
            "grid_template_columns": null,
            "grid_template_rows": null,
            "height": null,
            "justify_content": null,
            "justify_items": null,
            "left": null,
            "margin": null,
            "max_height": null,
            "max_width": null,
            "min_height": null,
            "min_width": null,
            "object_fit": null,
            "object_position": null,
            "order": null,
            "overflow": null,
            "overflow_x": null,
            "overflow_y": null,
            "padding": null,
            "right": null,
            "top": null,
            "visibility": null,
            "width": null
          }
        },
        "4581d28607a847f0b277ab2c9e5256bf": {
          "model_module": "@jupyter-widgets/base",
          "model_name": "LayoutModel",
          "model_module_version": "1.2.0",
          "state": {
            "_model_module": "@jupyter-widgets/base",
            "_model_module_version": "1.2.0",
            "_model_name": "LayoutModel",
            "_view_count": null,
            "_view_module": "@jupyter-widgets/base",
            "_view_module_version": "1.2.0",
            "_view_name": "LayoutView",
            "align_content": null,
            "align_items": null,
            "align_self": null,
            "border": null,
            "bottom": null,
            "display": null,
            "flex": null,
            "flex_flow": null,
            "grid_area": null,
            "grid_auto_columns": null,
            "grid_auto_flow": null,
            "grid_auto_rows": null,
            "grid_column": null,
            "grid_gap": null,
            "grid_row": null,
            "grid_template_areas": null,
            "grid_template_columns": null,
            "grid_template_rows": null,
            "height": null,
            "justify_content": null,
            "justify_items": null,
            "left": null,
            "margin": null,
            "max_height": null,
            "max_width": null,
            "min_height": null,
            "min_width": null,
            "object_fit": null,
            "object_position": null,
            "order": null,
            "overflow": null,
            "overflow_x": null,
            "overflow_y": null,
            "padding": null,
            "right": null,
            "top": null,
            "visibility": null,
            "width": null
          }
        },
        "4086b1f5359046098b43231534855374": {
          "model_module": "@jupyter-widgets/controls",
          "model_name": "DescriptionStyleModel",
          "model_module_version": "1.5.0",
          "state": {
            "_model_module": "@jupyter-widgets/controls",
            "_model_module_version": "1.5.0",
            "_model_name": "DescriptionStyleModel",
            "_view_count": null,
            "_view_module": "@jupyter-widgets/base",
            "_view_module_version": "1.2.0",
            "_view_name": "StyleView",
            "description_width": ""
          }
        },
        "3c86f53c005c4b8a94a0611931c7e90d": {
          "model_module": "@jupyter-widgets/base",
          "model_name": "LayoutModel",
          "model_module_version": "1.2.0",
          "state": {
            "_model_module": "@jupyter-widgets/base",
            "_model_module_version": "1.2.0",
            "_model_name": "LayoutModel",
            "_view_count": null,
            "_view_module": "@jupyter-widgets/base",
            "_view_module_version": "1.2.0",
            "_view_name": "LayoutView",
            "align_content": null,
            "align_items": null,
            "align_self": null,
            "border": null,
            "bottom": null,
            "display": null,
            "flex": null,
            "flex_flow": null,
            "grid_area": null,
            "grid_auto_columns": null,
            "grid_auto_flow": null,
            "grid_auto_rows": null,
            "grid_column": null,
            "grid_gap": null,
            "grid_row": null,
            "grid_template_areas": null,
            "grid_template_columns": null,
            "grid_template_rows": null,
            "height": null,
            "justify_content": null,
            "justify_items": null,
            "left": null,
            "margin": null,
            "max_height": null,
            "max_width": null,
            "min_height": null,
            "min_width": null,
            "object_fit": null,
            "object_position": null,
            "order": null,
            "overflow": null,
            "overflow_x": null,
            "overflow_y": null,
            "padding": null,
            "right": null,
            "top": null,
            "visibility": null,
            "width": "20px"
          }
        },
        "17c3c9f390e44bc2a9a59e091a4d53ed": {
          "model_module": "@jupyter-widgets/controls",
          "model_name": "ProgressStyleModel",
          "model_module_version": "1.5.0",
          "state": {
            "_model_module": "@jupyter-widgets/controls",
            "_model_module_version": "1.5.0",
            "_model_name": "ProgressStyleModel",
            "_view_count": null,
            "_view_module": "@jupyter-widgets/base",
            "_view_module_version": "1.2.0",
            "_view_name": "StyleView",
            "bar_color": null,
            "description_width": ""
          }
        },
        "aae74a0184c7459283bbde6ad4ec95e5": {
          "model_module": "@jupyter-widgets/base",
          "model_name": "LayoutModel",
          "model_module_version": "1.2.0",
          "state": {
            "_model_module": "@jupyter-widgets/base",
            "_model_module_version": "1.2.0",
            "_model_name": "LayoutModel",
            "_view_count": null,
            "_view_module": "@jupyter-widgets/base",
            "_view_module_version": "1.2.0",
            "_view_name": "LayoutView",
            "align_content": null,
            "align_items": null,
            "align_self": null,
            "border": null,
            "bottom": null,
            "display": null,
            "flex": null,
            "flex_flow": null,
            "grid_area": null,
            "grid_auto_columns": null,
            "grid_auto_flow": null,
            "grid_auto_rows": null,
            "grid_column": null,
            "grid_gap": null,
            "grid_row": null,
            "grid_template_areas": null,
            "grid_template_columns": null,
            "grid_template_rows": null,
            "height": null,
            "justify_content": null,
            "justify_items": null,
            "left": null,
            "margin": null,
            "max_height": null,
            "max_width": null,
            "min_height": null,
            "min_width": null,
            "object_fit": null,
            "object_position": null,
            "order": null,
            "overflow": null,
            "overflow_x": null,
            "overflow_y": null,
            "padding": null,
            "right": null,
            "top": null,
            "visibility": null,
            "width": null
          }
        },
        "da59f8bc70fe4c25a5675ec38fb94518": {
          "model_module": "@jupyter-widgets/controls",
          "model_name": "DescriptionStyleModel",
          "model_module_version": "1.5.0",
          "state": {
            "_model_module": "@jupyter-widgets/controls",
            "_model_module_version": "1.5.0",
            "_model_name": "DescriptionStyleModel",
            "_view_count": null,
            "_view_module": "@jupyter-widgets/base",
            "_view_module_version": "1.2.0",
            "_view_name": "StyleView",
            "description_width": ""
          }
        },
        "3f63afd9ddbf44c2b26a5c8556ac05b3": {
          "model_module": "@jupyter-widgets/controls",
          "model_name": "HBoxModel",
          "model_module_version": "1.5.0",
          "state": {
            "_dom_classes": [],
            "_model_module": "@jupyter-widgets/controls",
            "_model_module_version": "1.5.0",
            "_model_name": "HBoxModel",
            "_view_count": null,
            "_view_module": "@jupyter-widgets/controls",
            "_view_module_version": "1.5.0",
            "_view_name": "HBoxView",
            "box_style": "",
            "children": [
              "IPY_MODEL_61ce25a18bea490c831827e37439651b",
              "IPY_MODEL_f88012cc17664257b44e9608df545aa8",
              "IPY_MODEL_c8b683d60c7244e08e59b7ebfc111ef2"
            ],
            "layout": "IPY_MODEL_0c3528bb34c04a5ebeb516bc8d59f7a0"
          }
        },
        "61ce25a18bea490c831827e37439651b": {
          "model_module": "@jupyter-widgets/controls",
          "model_name": "HTMLModel",
          "model_module_version": "1.5.0",
          "state": {
            "_dom_classes": [],
            "_model_module": "@jupyter-widgets/controls",
            "_model_module_version": "1.5.0",
            "_model_name": "HTMLModel",
            "_view_count": null,
            "_view_module": "@jupyter-widgets/controls",
            "_view_module_version": "1.5.0",
            "_view_name": "HTMLView",
            "description": "",
            "description_tooltip": null,
            "layout": "IPY_MODEL_e37c78d2e21e4e99870ca9234cd6a762",
            "placeholder": "​",
            "style": "IPY_MODEL_6092f898c55047e4add9a16227f8545b",
            "value": ""
          }
        },
        "f88012cc17664257b44e9608df545aa8": {
          "model_module": "@jupyter-widgets/controls",
          "model_name": "FloatProgressModel",
          "model_module_version": "1.5.0",
          "state": {
            "_dom_classes": [],
            "_model_module": "@jupyter-widgets/controls",
            "_model_module_version": "1.5.0",
            "_model_name": "FloatProgressModel",
            "_view_count": null,
            "_view_module": "@jupyter-widgets/controls",
            "_view_module_version": "1.5.0",
            "_view_name": "ProgressView",
            "bar_style": "success",
            "description": "",
            "description_tooltip": null,
            "layout": "IPY_MODEL_3479ec647d3f492e97aaf48154d33285",
            "max": 1,
            "min": 0,
            "orientation": "horizontal",
            "style": "IPY_MODEL_3d101ef9dc894b85b0af06fa2c3bde49",
            "value": 1
          }
        },
        "c8b683d60c7244e08e59b7ebfc111ef2": {
          "model_module": "@jupyter-widgets/controls",
          "model_name": "HTMLModel",
          "model_module_version": "1.5.0",
          "state": {
            "_dom_classes": [],
            "_model_module": "@jupyter-widgets/controls",
            "_model_module_version": "1.5.0",
            "_model_name": "HTMLModel",
            "_view_count": null,
            "_view_module": "@jupyter-widgets/controls",
            "_view_module_version": "1.5.0",
            "_view_name": "HTMLView",
            "description": "",
            "description_tooltip": null,
            "layout": "IPY_MODEL_9bff8226afde44b2a001242d1727a989",
            "placeholder": "​",
            "style": "IPY_MODEL_58b89c9b947245b088c0c21bba4823dd",
            "value": " 1654784/? [00:00&lt;00:00, 1104586.41it/s]"
          }
        },
        "0c3528bb34c04a5ebeb516bc8d59f7a0": {
          "model_module": "@jupyter-widgets/base",
          "model_name": "LayoutModel",
          "model_module_version": "1.2.0",
          "state": {
            "_model_module": "@jupyter-widgets/base",
            "_model_module_version": "1.2.0",
            "_model_name": "LayoutModel",
            "_view_count": null,
            "_view_module": "@jupyter-widgets/base",
            "_view_module_version": "1.2.0",
            "_view_name": "LayoutView",
            "align_content": null,
            "align_items": null,
            "align_self": null,
            "border": null,
            "bottom": null,
            "display": null,
            "flex": null,
            "flex_flow": null,
            "grid_area": null,
            "grid_auto_columns": null,
            "grid_auto_flow": null,
            "grid_auto_rows": null,
            "grid_column": null,
            "grid_gap": null,
            "grid_row": null,
            "grid_template_areas": null,
            "grid_template_columns": null,
            "grid_template_rows": null,
            "height": null,
            "justify_content": null,
            "justify_items": null,
            "left": null,
            "margin": null,
            "max_height": null,
            "max_width": null,
            "min_height": null,
            "min_width": null,
            "object_fit": null,
            "object_position": null,
            "order": null,
            "overflow": null,
            "overflow_x": null,
            "overflow_y": null,
            "padding": null,
            "right": null,
            "top": null,
            "visibility": null,
            "width": null
          }
        },
        "e37c78d2e21e4e99870ca9234cd6a762": {
          "model_module": "@jupyter-widgets/base",
          "model_name": "LayoutModel",
          "model_module_version": "1.2.0",
          "state": {
            "_model_module": "@jupyter-widgets/base",
            "_model_module_version": "1.2.0",
            "_model_name": "LayoutModel",
            "_view_count": null,
            "_view_module": "@jupyter-widgets/base",
            "_view_module_version": "1.2.0",
            "_view_name": "LayoutView",
            "align_content": null,
            "align_items": null,
            "align_self": null,
            "border": null,
            "bottom": null,
            "display": null,
            "flex": null,
            "flex_flow": null,
            "grid_area": null,
            "grid_auto_columns": null,
            "grid_auto_flow": null,
            "grid_auto_rows": null,
            "grid_column": null,
            "grid_gap": null,
            "grid_row": null,
            "grid_template_areas": null,
            "grid_template_columns": null,
            "grid_template_rows": null,
            "height": null,
            "justify_content": null,
            "justify_items": null,
            "left": null,
            "margin": null,
            "max_height": null,
            "max_width": null,
            "min_height": null,
            "min_width": null,
            "object_fit": null,
            "object_position": null,
            "order": null,
            "overflow": null,
            "overflow_x": null,
            "overflow_y": null,
            "padding": null,
            "right": null,
            "top": null,
            "visibility": null,
            "width": null
          }
        },
        "6092f898c55047e4add9a16227f8545b": {
          "model_module": "@jupyter-widgets/controls",
          "model_name": "DescriptionStyleModel",
          "model_module_version": "1.5.0",
          "state": {
            "_model_module": "@jupyter-widgets/controls",
            "_model_module_version": "1.5.0",
            "_model_name": "DescriptionStyleModel",
            "_view_count": null,
            "_view_module": "@jupyter-widgets/base",
            "_view_module_version": "1.2.0",
            "_view_name": "StyleView",
            "description_width": ""
          }
        },
        "3479ec647d3f492e97aaf48154d33285": {
          "model_module": "@jupyter-widgets/base",
          "model_name": "LayoutModel",
          "model_module_version": "1.2.0",
          "state": {
            "_model_module": "@jupyter-widgets/base",
            "_model_module_version": "1.2.0",
            "_model_name": "LayoutModel",
            "_view_count": null,
            "_view_module": "@jupyter-widgets/base",
            "_view_module_version": "1.2.0",
            "_view_name": "LayoutView",
            "align_content": null,
            "align_items": null,
            "align_self": null,
            "border": null,
            "bottom": null,
            "display": null,
            "flex": null,
            "flex_flow": null,
            "grid_area": null,
            "grid_auto_columns": null,
            "grid_auto_flow": null,
            "grid_auto_rows": null,
            "grid_column": null,
            "grid_gap": null,
            "grid_row": null,
            "grid_template_areas": null,
            "grid_template_columns": null,
            "grid_template_rows": null,
            "height": null,
            "justify_content": null,
            "justify_items": null,
            "left": null,
            "margin": null,
            "max_height": null,
            "max_width": null,
            "min_height": null,
            "min_width": null,
            "object_fit": null,
            "object_position": null,
            "order": null,
            "overflow": null,
            "overflow_x": null,
            "overflow_y": null,
            "padding": null,
            "right": null,
            "top": null,
            "visibility": null,
            "width": "20px"
          }
        },
        "3d101ef9dc894b85b0af06fa2c3bde49": {
          "model_module": "@jupyter-widgets/controls",
          "model_name": "ProgressStyleModel",
          "model_module_version": "1.5.0",
          "state": {
            "_model_module": "@jupyter-widgets/controls",
            "_model_module_version": "1.5.0",
            "_model_name": "ProgressStyleModel",
            "_view_count": null,
            "_view_module": "@jupyter-widgets/base",
            "_view_module_version": "1.2.0",
            "_view_name": "StyleView",
            "bar_color": null,
            "description_width": ""
          }
        },
        "9bff8226afde44b2a001242d1727a989": {
          "model_module": "@jupyter-widgets/base",
          "model_name": "LayoutModel",
          "model_module_version": "1.2.0",
          "state": {
            "_model_module": "@jupyter-widgets/base",
            "_model_module_version": "1.2.0",
            "_model_name": "LayoutModel",
            "_view_count": null,
            "_view_module": "@jupyter-widgets/base",
            "_view_module_version": "1.2.0",
            "_view_name": "LayoutView",
            "align_content": null,
            "align_items": null,
            "align_self": null,
            "border": null,
            "bottom": null,
            "display": null,
            "flex": null,
            "flex_flow": null,
            "grid_area": null,
            "grid_auto_columns": null,
            "grid_auto_flow": null,
            "grid_auto_rows": null,
            "grid_column": null,
            "grid_gap": null,
            "grid_row": null,
            "grid_template_areas": null,
            "grid_template_columns": null,
            "grid_template_rows": null,
            "height": null,
            "justify_content": null,
            "justify_items": null,
            "left": null,
            "margin": null,
            "max_height": null,
            "max_width": null,
            "min_height": null,
            "min_width": null,
            "object_fit": null,
            "object_position": null,
            "order": null,
            "overflow": null,
            "overflow_x": null,
            "overflow_y": null,
            "padding": null,
            "right": null,
            "top": null,
            "visibility": null,
            "width": null
          }
        },
        "58b89c9b947245b088c0c21bba4823dd": {
          "model_module": "@jupyter-widgets/controls",
          "model_name": "DescriptionStyleModel",
          "model_module_version": "1.5.0",
          "state": {
            "_model_module": "@jupyter-widgets/controls",
            "_model_module_version": "1.5.0",
            "_model_name": "DescriptionStyleModel",
            "_view_count": null,
            "_view_module": "@jupyter-widgets/base",
            "_view_module_version": "1.2.0",
            "_view_name": "StyleView",
            "description_width": ""
          }
        },
        "1456525f6a4547b0aca68cc2a3041d85": {
          "model_module": "@jupyter-widgets/controls",
          "model_name": "HBoxModel",
          "model_module_version": "1.5.0",
          "state": {
            "_dom_classes": [],
            "_model_module": "@jupyter-widgets/controls",
            "_model_module_version": "1.5.0",
            "_model_name": "HBoxModel",
            "_view_count": null,
            "_view_module": "@jupyter-widgets/controls",
            "_view_module_version": "1.5.0",
            "_view_name": "HBoxView",
            "box_style": "",
            "children": [
              "IPY_MODEL_6505bb6bfbbf4aca8ca18c676987342a",
              "IPY_MODEL_d04a45fe03584fa19841ddde9cdd77c9",
              "IPY_MODEL_f01b5790e8f54f0890e5fed2cc25236a"
            ],
            "layout": "IPY_MODEL_cf0ba2511e6f4344887693026920f75b"
          }
        },
        "6505bb6bfbbf4aca8ca18c676987342a": {
          "model_module": "@jupyter-widgets/controls",
          "model_name": "HTMLModel",
          "model_module_version": "1.5.0",
          "state": {
            "_dom_classes": [],
            "_model_module": "@jupyter-widgets/controls",
            "_model_module_version": "1.5.0",
            "_model_name": "HTMLModel",
            "_view_count": null,
            "_view_module": "@jupyter-widgets/controls",
            "_view_module_version": "1.5.0",
            "_view_name": "HTMLView",
            "description": "",
            "description_tooltip": null,
            "layout": "IPY_MODEL_2b40842005124e358adf6d52d8bdb6d9",
            "placeholder": "​",
            "style": "IPY_MODEL_0233b93549dd49f6a6b921b0acf54da9",
            "value": ""
          }
        },
        "d04a45fe03584fa19841ddde9cdd77c9": {
          "model_module": "@jupyter-widgets/controls",
          "model_name": "FloatProgressModel",
          "model_module_version": "1.5.0",
          "state": {
            "_dom_classes": [],
            "_model_module": "@jupyter-widgets/controls",
            "_model_module_version": "1.5.0",
            "_model_name": "FloatProgressModel",
            "_view_count": null,
            "_view_module": "@jupyter-widgets/controls",
            "_view_module_version": "1.5.0",
            "_view_name": "ProgressView",
            "bar_style": "success",
            "description": "",
            "description_tooltip": null,
            "layout": "IPY_MODEL_b45b656804694808a04fd79167f5c467",
            "max": 1,
            "min": 0,
            "orientation": "horizontal",
            "style": "IPY_MODEL_e55d91c5375f4b79986f67da825a1d31",
            "value": 1
          }
        },
        "f01b5790e8f54f0890e5fed2cc25236a": {
          "model_module": "@jupyter-widgets/controls",
          "model_name": "HTMLModel",
          "model_module_version": "1.5.0",
          "state": {
            "_dom_classes": [],
            "_model_module": "@jupyter-widgets/controls",
            "_model_module_version": "1.5.0",
            "_model_name": "HTMLModel",
            "_view_count": null,
            "_view_module": "@jupyter-widgets/controls",
            "_view_module_version": "1.5.0",
            "_view_name": "HTMLView",
            "description": "",
            "description_tooltip": null,
            "layout": "IPY_MODEL_ebf6ed186c0e4ba8be05f28524c5c5f8",
            "placeholder": "​",
            "style": "IPY_MODEL_471d606c5b4e47248f93fbae23d93f43",
            "value": " 8192/? [00:00&lt;00:00, 21461.93it/s]"
          }
        },
        "cf0ba2511e6f4344887693026920f75b": {
          "model_module": "@jupyter-widgets/base",
          "model_name": "LayoutModel",
          "model_module_version": "1.2.0",
          "state": {
            "_model_module": "@jupyter-widgets/base",
            "_model_module_version": "1.2.0",
            "_model_name": "LayoutModel",
            "_view_count": null,
            "_view_module": "@jupyter-widgets/base",
            "_view_module_version": "1.2.0",
            "_view_name": "LayoutView",
            "align_content": null,
            "align_items": null,
            "align_self": null,
            "border": null,
            "bottom": null,
            "display": null,
            "flex": null,
            "flex_flow": null,
            "grid_area": null,
            "grid_auto_columns": null,
            "grid_auto_flow": null,
            "grid_auto_rows": null,
            "grid_column": null,
            "grid_gap": null,
            "grid_row": null,
            "grid_template_areas": null,
            "grid_template_columns": null,
            "grid_template_rows": null,
            "height": null,
            "justify_content": null,
            "justify_items": null,
            "left": null,
            "margin": null,
            "max_height": null,
            "max_width": null,
            "min_height": null,
            "min_width": null,
            "object_fit": null,
            "object_position": null,
            "order": null,
            "overflow": null,
            "overflow_x": null,
            "overflow_y": null,
            "padding": null,
            "right": null,
            "top": null,
            "visibility": null,
            "width": null
          }
        },
        "2b40842005124e358adf6d52d8bdb6d9": {
          "model_module": "@jupyter-widgets/base",
          "model_name": "LayoutModel",
          "model_module_version": "1.2.0",
          "state": {
            "_model_module": "@jupyter-widgets/base",
            "_model_module_version": "1.2.0",
            "_model_name": "LayoutModel",
            "_view_count": null,
            "_view_module": "@jupyter-widgets/base",
            "_view_module_version": "1.2.0",
            "_view_name": "LayoutView",
            "align_content": null,
            "align_items": null,
            "align_self": null,
            "border": null,
            "bottom": null,
            "display": null,
            "flex": null,
            "flex_flow": null,
            "grid_area": null,
            "grid_auto_columns": null,
            "grid_auto_flow": null,
            "grid_auto_rows": null,
            "grid_column": null,
            "grid_gap": null,
            "grid_row": null,
            "grid_template_areas": null,
            "grid_template_columns": null,
            "grid_template_rows": null,
            "height": null,
            "justify_content": null,
            "justify_items": null,
            "left": null,
            "margin": null,
            "max_height": null,
            "max_width": null,
            "min_height": null,
            "min_width": null,
            "object_fit": null,
            "object_position": null,
            "order": null,
            "overflow": null,
            "overflow_x": null,
            "overflow_y": null,
            "padding": null,
            "right": null,
            "top": null,
            "visibility": null,
            "width": null
          }
        },
        "0233b93549dd49f6a6b921b0acf54da9": {
          "model_module": "@jupyter-widgets/controls",
          "model_name": "DescriptionStyleModel",
          "model_module_version": "1.5.0",
          "state": {
            "_model_module": "@jupyter-widgets/controls",
            "_model_module_version": "1.5.0",
            "_model_name": "DescriptionStyleModel",
            "_view_count": null,
            "_view_module": "@jupyter-widgets/base",
            "_view_module_version": "1.2.0",
            "_view_name": "StyleView",
            "description_width": ""
          }
        },
        "b45b656804694808a04fd79167f5c467": {
          "model_module": "@jupyter-widgets/base",
          "model_name": "LayoutModel",
          "model_module_version": "1.2.0",
          "state": {
            "_model_module": "@jupyter-widgets/base",
            "_model_module_version": "1.2.0",
            "_model_name": "LayoutModel",
            "_view_count": null,
            "_view_module": "@jupyter-widgets/base",
            "_view_module_version": "1.2.0",
            "_view_name": "LayoutView",
            "align_content": null,
            "align_items": null,
            "align_self": null,
            "border": null,
            "bottom": null,
            "display": null,
            "flex": null,
            "flex_flow": null,
            "grid_area": null,
            "grid_auto_columns": null,
            "grid_auto_flow": null,
            "grid_auto_rows": null,
            "grid_column": null,
            "grid_gap": null,
            "grid_row": null,
            "grid_template_areas": null,
            "grid_template_columns": null,
            "grid_template_rows": null,
            "height": null,
            "justify_content": null,
            "justify_items": null,
            "left": null,
            "margin": null,
            "max_height": null,
            "max_width": null,
            "min_height": null,
            "min_width": null,
            "object_fit": null,
            "object_position": null,
            "order": null,
            "overflow": null,
            "overflow_x": null,
            "overflow_y": null,
            "padding": null,
            "right": null,
            "top": null,
            "visibility": null,
            "width": "20px"
          }
        },
        "e55d91c5375f4b79986f67da825a1d31": {
          "model_module": "@jupyter-widgets/controls",
          "model_name": "ProgressStyleModel",
          "model_module_version": "1.5.0",
          "state": {
            "_model_module": "@jupyter-widgets/controls",
            "_model_module_version": "1.5.0",
            "_model_name": "ProgressStyleModel",
            "_view_count": null,
            "_view_module": "@jupyter-widgets/base",
            "_view_module_version": "1.2.0",
            "_view_name": "StyleView",
            "bar_color": null,
            "description_width": ""
          }
        },
        "ebf6ed186c0e4ba8be05f28524c5c5f8": {
          "model_module": "@jupyter-widgets/base",
          "model_name": "LayoutModel",
          "model_module_version": "1.2.0",
          "state": {
            "_model_module": "@jupyter-widgets/base",
            "_model_module_version": "1.2.0",
            "_model_name": "LayoutModel",
            "_view_count": null,
            "_view_module": "@jupyter-widgets/base",
            "_view_module_version": "1.2.0",
            "_view_name": "LayoutView",
            "align_content": null,
            "align_items": null,
            "align_self": null,
            "border": null,
            "bottom": null,
            "display": null,
            "flex": null,
            "flex_flow": null,
            "grid_area": null,
            "grid_auto_columns": null,
            "grid_auto_flow": null,
            "grid_auto_rows": null,
            "grid_column": null,
            "grid_gap": null,
            "grid_row": null,
            "grid_template_areas": null,
            "grid_template_columns": null,
            "grid_template_rows": null,
            "height": null,
            "justify_content": null,
            "justify_items": null,
            "left": null,
            "margin": null,
            "max_height": null,
            "max_width": null,
            "min_height": null,
            "min_width": null,
            "object_fit": null,
            "object_position": null,
            "order": null,
            "overflow": null,
            "overflow_x": null,
            "overflow_y": null,
            "padding": null,
            "right": null,
            "top": null,
            "visibility": null,
            "width": null
          }
        },
        "471d606c5b4e47248f93fbae23d93f43": {
          "model_module": "@jupyter-widgets/controls",
          "model_name": "DescriptionStyleModel",
          "model_module_version": "1.5.0",
          "state": {
            "_model_module": "@jupyter-widgets/controls",
            "_model_module_version": "1.5.0",
            "_model_name": "DescriptionStyleModel",
            "_view_count": null,
            "_view_module": "@jupyter-widgets/base",
            "_view_module_version": "1.2.0",
            "_view_name": "StyleView",
            "description_width": ""
          }
        }
      }
    }
  },
  "cells": [
    {
      "cell_type": "markdown",
      "metadata": {
        "id": "view-in-github",
        "colab_type": "text"
      },
      "source": [
        "<a href=\"https://colab.research.google.com/github/Geek-a-Byte/Federated-Learning-Aided-Cervical-Cancer-Classification/blob/main/FL_practise_2.ipynb\" target=\"_parent\"><img src=\"https://colab.research.google.com/assets/colab-badge.svg\" alt=\"Open In Colab\"/></a>"
      ]
    },
    {
      "cell_type": "markdown",
      "source": [
        "https://learnopencv.com/federated-learning-using-pytorch-and-pysyft/"
      ],
      "metadata": {
        "id": "XbGc--6qA2Z4"
      }
    },
    {
      "cell_type": "markdown",
      "source": [
        "## Imports and Hook"
      ],
      "metadata": {
        "id": "q8SDaQNm6Ttu"
      }
    },
    {
      "cell_type": "code",
      "source": [
        "!pip uninstall syft\n",
        "!pip install syft==0.2.9"
      ],
      "metadata": {
        "id": "1YcJPAEn2Tmd"
      },
      "execution_count": null,
      "outputs": []
    },
    {
      "cell_type": "code",
      "source": [
        "!pip install torchvision\n",
        "!pip install torch"
      ],
      "metadata": {
        "id": "WeerUcI93C_J"
      },
      "execution_count": null,
      "outputs": []
    },
    {
      "cell_type": "code",
      "source": [
        "# we need pillow version of 5.3.0\n",
        "# we will uninstall the older version first\n",
        "!pip uninstall Pillow\n",
        "# install the new one\n",
        "!pip install Pillow==5.3.0"
      ],
      "metadata": {
        "id": "GLUcXV9h3qwK"
      },
      "execution_count": null,
      "outputs": []
    },
    {
      "cell_type": "code",
      "source": [
        "# Imports here\n",
        "import cv2\n",
        "import shutil \n",
        "import os\n",
        "import time\n",
        "from collections import OrderedDict\n",
        "from datetime import datetime\n",
        "from pytz import timezone  \n",
        "import copy\n",
        "\n",
        "import torch\n",
        "torch.cuda.empty_cache()\n",
        "\n",
        "import numpy as np\n",
        "import torchvision\n",
        "import torch.nn as nn\n",
        "import torch.optim as optim\n",
        "from torchvision import datasets, models, transforms\n",
        "from torch.autograd import Variable\n",
        "from torch.optim import lr_scheduler\n",
        "from torch.utils.data.sampler import SubsetRandomSampler\n",
        "import matplotlib.pyplot as plt"
      ],
      "metadata": {
        "id": "oeffOtpT3gOw"
      },
      "execution_count": 1,
      "outputs": []
    },
    {
      "cell_type": "markdown",
      "source": [
        "We import PyTorch and PySyft, however we hook torch with syft with TorchHook function. TheTorchHook does the wrapping by adding all the additional functionality to PyTorch for doing Federated Learning and other Private AI techniques."
      ],
      "metadata": {
        "id": "Aat30Vbn4QAu"
      }
    },
    {
      "cell_type": "markdown",
      "source": [
        "A Hook which overrides methods on PyTorch Tensors. The purpose of this class is to extend torch methods to allow for the moving of tensors from one worker to another and override torch methods to execute commands on one worker that are called on tensors controlled by the local worker."
      ],
      "metadata": {
        "id": "qM6dkmSs52RL"
      }
    },
    {
      "cell_type": "markdown",
      "source": [
        "This class is typically the first thing you will initialize when using PySyft with PyTorch because it is responsible for augmenting PyTorch with PySyft’s added functionality (such as remote execution)."
      ],
      "metadata": {
        "id": "vdFcHIbK6Pyu"
      }
    },
    {
      "cell_type": "code",
      "execution_count": 2,
      "metadata": {
        "id": "PvEB5svi05H-"
      },
      "outputs": [],
      "source": [
        "import torch\n",
        "import syft as sy\n",
        "hook = sy.TorchHook(torch) # add extra functionality to PyTorch"
      ]
    },
    {
      "cell_type": "markdown",
      "source": [
        "## Creating a Virtual Worker\n"
      ],
      "metadata": {
        "id": "RT0xJyKm8IUo"
      }
    },
    {
      "cell_type": "markdown",
      "source": [
        "Let me show you what I mean by a pointer to tensor. First, let’s create a virtual machine owned by some health clinic, say harmony_clinic. We will be using this to simulate a machine present at a remote location. A thing to note is that syft calls these machines as VirtualWorker."
      ],
      "metadata": {
        "id": "IHvPRmpy7yCj"
      }
    },
    {
      "cell_type": "code",
      "source": [
        "# create a machine owned by harmony clinic\n",
        "harmony_clinic = sy.VirtualWorker(hook=hook,id='clinic')"
      ],
      "metadata": {
        "id": "deTiuPux7raV"
      },
      "execution_count": 3,
      "outputs": []
    },
    {
      "cell_type": "markdown",
      "source": [
        "## Sending the Tensors"
      ],
      "metadata": {
        "id": "kVxAu8JC8Mf3"
      }
    },
    {
      "cell_type": "markdown",
      "source": [
        "Now we know that the harmony_clinic is at a remote location but it doesn’t have any data we can use. Let’s create some data so that we can send it to harmony_clinic."
      ],
      "metadata": {
        "id": "HKpAc8dP8REI"
      }
    },
    {
      "cell_type": "code",
      "source": [
        "# we create a Tensor, maybe this is some gene sequence\n",
        "dna = torch.tensor([0,1,2,1,2])\n",
        "\n",
        "# and now I send it, and in turn we get a pointer back that\n",
        "# points to that Tensor\n",
        "dna_ptr = dna.send(harmony_clinic)\n",
        "\n",
        "print(dna_ptr)"
      ],
      "metadata": {
        "colab": {
          "base_uri": "https://localhost:8080/"
        },
        "id": "ErRqYU9U8U-j",
        "outputId": "d490de14-86c9-4f80-9547-6989cfb439ea"
      },
      "execution_count": 4,
      "outputs": [
        {
          "output_type": "stream",
          "name": "stdout",
          "text": [
            "(Wrapper)>[PointerTensor | me:73696300333 -> clinic:94988041952]\n"
          ]
        }
      ]
    },
    {
      "cell_type": "markdown",
      "source": [
        "We see that the PointerTensor points from me (which is us, PySyft creates this me worker automatically) to harmony_clinic. We also see some random numbers, these are actually object IDs that PySyft assigns to every object."
      ],
      "metadata": {
        "id": "p23OA2uh8pDV"
      }
    },
    {
      "cell_type": "markdown",
      "source": [
        "Now harmony_clinic has the tensor that we sent. We can use harmony_clinic._objects to see objects that harmony_cliniccurrently has."
      ],
      "metadata": {
        "id": "ccBu-zpH-Zon"
      }
    },
    {
      "cell_type": "code",
      "source": [
        "print(harmony_clinic._objects)\n"
      ],
      "metadata": {
        "colab": {
          "base_uri": "https://localhost:8080/"
        },
        "id": "TVZCW9rA-cin",
        "outputId": "2e75539f-a8f4-4477-ee90-5b4d84061188"
      },
      "execution_count": 5,
      "outputs": [
        {
          "output_type": "stream",
          "name": "stdout",
          "text": [
            "{94988041952: tensor([0, 1, 2, 1, 2])}\n"
          ]
        }
      ]
    },
    {
      "cell_type": "markdown",
      "source": [
        "Notice the object ID for the tensor dna. It is same as above in dna_ptr."
      ],
      "metadata": {
        "id": "pRThSuhl-gNj"
      }
    },
    {
      "cell_type": "markdown",
      "source": [
        "## Getting back the Tensors"
      ],
      "metadata": {
        "id": "lfdB0y9o-h_B"
      }
    },
    {
      "cell_type": "markdown",
      "source": [
        "And in the same way, we can get a tensor back from a remote location by using the .get() function."
      ],
      "metadata": {
        "id": "zI2gtbbX-mzG"
      }
    },
    {
      "cell_type": "code",
      "source": [
        "# get back dna\n",
        "dna = dna_ptr.get()\n",
        "print(dna)\n",
        "\n",
        "# And as you can see... clinic no longer has the tensor dna anymore!!! It has moved back to our machine!\n",
        "print(harmony_clinic._objects)"
      ],
      "metadata": {
        "colab": {
          "base_uri": "https://localhost:8080/"
        },
        "id": "ce4yBya--0mL",
        "outputId": "2b3e42ee-c421-4c70-ec84-585a116d2e7b"
      },
      "execution_count": 6,
      "outputs": [
        {
          "output_type": "stream",
          "name": "stdout",
          "text": [
            "tensor([0, 1, 2, 1, 2])\n",
            "{}\n"
          ]
        }
      ]
    },
    {
      "cell_type": "markdown",
      "source": [
        "But that’s not machine learning, you might be wondering. I agree but now comes the fun part, we can use pointers to do arithmetic as we do in PyTorch. You will know what I mean in the following section."
      ],
      "metadata": {
        "id": "PCKNUITe-7wI"
      }
    },
    {
      "cell_type": "markdown",
      "source": [
        "## Doing Deep Learning with Pointer Tensors"
      ],
      "metadata": {
        "id": "iGOoAasf--cq"
      }
    },
    {
      "cell_type": "code",
      "source": [
        "a = torch.tensor([3.14, 6.28]).send(harmony_clinic)\n",
        "b = torch.tensor([6.14, 3.28]).send(harmony_clinic)\n",
        "c = a + b\n",
        "print(c)"
      ],
      "metadata": {
        "colab": {
          "base_uri": "https://localhost:8080/"
        },
        "id": "gwu920ej_ArS",
        "outputId": "b195e34d-6afa-4938-e5cb-63a1d5618067"
      },
      "execution_count": 7,
      "outputs": [
        {
          "output_type": "stream",
          "name": "stdout",
          "text": [
            "(Wrapper)>[PointerTensor | me:56777206489 -> clinic:95226575702]\n"
          ]
        }
      ]
    },
    {
      "cell_type": "markdown",
      "source": [
        "Something very interesting happened behind the scenes, i.e. when did c = a + b on our machine, a command was sent to the remote machine that did that exact calculation, created a new tensor on its machine and then sent back a pointer to us which we now call c.\n",
        "\n",
        "The amazing thing is this API has been extended to all the PyTorch operations including Back propogation. Hurray !!\n",
        "\n",
        "This means that we can use the same PyTorch code that we usually do when doing Machine Learning."
      ],
      "metadata": {
        "id": "tSG6HtGl_M1p"
      }
    },
    {
      "cell_type": "code",
      "source": [
        "  # we create two tensors and send it to bob\n",
        "train = torch.tensor([2.4, 6.2], requires_grad=True).send(harmony_clinic)\n",
        "label = torch.tensor([2, 6.]).send(harmony_clinic)\n",
        "\n",
        "# we apply some function, in this case a rather simple one, just to show the idea, we use L1 loss\n",
        "loss = (train-label).abs().sum()\n",
        "\n",
        "# Yes, even .backward() works when working with Pointers\n",
        "loss.backward()\n",
        "\n",
        "# now we retreive back the train tensor\n",
        "train = train.get()\n",
        "\n",
        "print(train)\n",
        "\n",
        "# If everything went well, we will see gradients accumulated \n",
        "# in .grad attribute of train\n",
        "print(train.grad)"
      ],
      "metadata": {
        "colab": {
          "base_uri": "https://localhost:8080/"
        },
        "id": "TSeLZrUVAe8b",
        "outputId": "c8e79d2e-c163-4250-82e5-4686bef1c253"
      },
      "execution_count": 8,
      "outputs": [
        {
          "output_type": "stream",
          "name": "stdout",
          "text": [
            "tensor([2.4000, 6.2000], requires_grad=True)\n",
            "tensor([1., 1.])\n"
          ]
        }
      ]
    },
    {
      "cell_type": "markdown",
      "source": [
        "And we see that indeed !! So as you can see, the API is really quite flexible and capable of performing nearly any operation you would normally perform in Torch on remote data. This lays the groundwork for the next part of this article i.e. doing federated learning on MNIST data.\n",
        "\n"
      ],
      "metadata": {
        "id": "ID89zzYHArG6"
      }
    },
    {
      "cell_type": "markdown",
      "source": [
        "Now that we have gone through the introduction of the API, we can now move onto the interesting part. Next, I will discuss training of the model."
      ],
      "metadata": {
        "id": "rO1XuDTJAvHD"
      }
    },
    {
      "cell_type": "markdown",
      "source": [
        "## Real Life example on Federated Learning"
      ],
      "metadata": {
        "id": "bWdCtZU-EeWA"
      }
    },
    {
      "cell_type": "code",
      "source": [
        "import torch\n",
        "import torch.nn as nn\n",
        "import torch.nn.functional as F\n",
        "import torch.optim as optim\n",
        "from torchvision import datasets, transforms\n",
        "import logging\n",
        "\n",
        "# import Pysyft to help us to simulate federated leraning\n",
        "import syft as sy\n",
        "\n",
        "# hook PyTorch to PySyft i.e. add extra functionalities to support Federated Learning\n",
        "# and other private AI tools\n",
        "hook = sy.TorchHook(torch) \n",
        "\n",
        "# we create two imaginary schools\n",
        "westside_school = sy.VirtualWorker(hook, id=\"westside\")\n",
        "grapevine_high = sy.VirtualWorker(hook, id=\"grapevine\")"
      ],
      "metadata": {
        "colab": {
          "base_uri": "https://localhost:8080/"
        },
        "id": "HSfJGuVtEilA",
        "outputId": "2a84a635-3048-4e0b-aad9-884ee407be7d"
      },
      "execution_count": 9,
      "outputs": [
        {
          "output_type": "stream",
          "name": "stderr",
          "text": [
            "WARNING:root:Torch was already hooked... skipping hooking process\n"
          ]
        }
      ]
    },
    {
      "cell_type": "markdown",
      "source": [
        "Now we define hyper-parameters such as learning rate, batch size, test batch size etc."
      ],
      "metadata": {
        "id": "u-sgll5dEpUe"
      }
    },
    {
      "cell_type": "code",
      "source": [
        "# define the args\n",
        "args = {\n",
        "    'use_cuda' : True,\n",
        "    'batch_size' : 64,\n",
        "    'test_batch_size' : 1000,\n",
        "    'lr' : 0.01,\n",
        "    'log_interval' : 10,\n",
        "    'epochs' : 10\n",
        "}\n",
        "\n",
        "# check to use GPU or not\n",
        "use_cuda = args['use_cuda'] and torch.cuda.is_available()\n",
        "device = torch.device(\"cuda\" if use_cuda else \"cpu\")"
      ],
      "metadata": {
        "id": "FeTK4z2cEtbe"
      },
      "execution_count": 10,
      "outputs": []
    },
    {
      "cell_type": "markdown",
      "source": [
        "Now we define a very simple CNN."
      ],
      "metadata": {
        "id": "Wp1tQSBdEyMv"
      }
    },
    {
      "cell_type": "code",
      "source": [
        "# create a simple CNN net\n",
        "class Net(nn.Module):\n",
        "    \n",
        "    def __init__(self):\n",
        "        super(Net, self).__init__()\n",
        "        \n",
        "        self.conv = nn.Sequential(\n",
        "            nn.Conv2d(in_channels = 1, out_channels = 32, kernel_size = 3, stride = 1),\n",
        "            nn.ReLU(),\n",
        "            nn.Conv2d(in_channels=32,out_channels = 64, kernel_size = 3, stride = 1),\n",
        "            nn.ReLU()\n",
        "        )\n",
        "        \n",
        "        self.fc = nn.Sequential(\n",
        "            nn.Linear(in_features=64*12*12, out_features=128),\n",
        "            nn.ReLU(),\n",
        "            nn.Linear(in_features=128, out_features=10),\n",
        "        )\n",
        "\n",
        "        self.dropout = nn.Dropout2d(0.25)\n",
        "    \n",
        "    def forward(self, x):\n",
        "        x = self.conv(x)\n",
        "        x = F.max_pool2d(x,2)\n",
        "        x = x.view(-1, 64*12*12)\n",
        "        x = self.fc(x)\n",
        "        x = F.log_softmax(x, dim=1)\n",
        "        return x"
      ],
      "metadata": {
        "id": "tHUVVVk5Eyog"
      },
      "execution_count": 11,
      "outputs": []
    },
    {
      "cell_type": "markdown",
      "source": [
        "## Sending the data to schools"
      ],
      "metadata": {
        "id": "traaCiifE4MX"
      }
    },
    {
      "cell_type": "markdown",
      "source": [
        "We load the data first and then transform the data into a federated dataset using .federate() method. It does a couple of things for us:\n",
        "\n",
        "It splits the dataset in two parts (which was also done by the torch Data Loader as well)\n",
        "But the extra thing it does is it also sends this data across two remote workers, in our case the two schools.\n",
        "We will then used this newly created federated dataset to iterate over remote batches during our training loop.\n",
        "\n",
        "One thing to note is that in real life we won’t be sending the data to schools, instead the schools will already have the data and we will just have pointer to their data. Here we are just simulating a real life scenario.\n",
        "\n",
        "The test dataset will be with us only (i.e. the local worker in PySyft’s terminlogy), so the code is same as the official guide.\n",
        "\n"
      ],
      "metadata": {
        "id": "oirfInfaE7d-"
      }
    },
    {
      "cell_type": "code",
      "source": [
        "# Now we take the help of PySyft's awesome API to prepare the data for us and\n",
        "# distribute for us across 2 workers ie. two schools\n",
        "# normally we dont have to distribute data, data is already there at the site.\n",
        "# We are doing this just to simulate federated learning.\n",
        "# Below code looks just like torch code with just some minor changes. This is what's nice about PySyft.\n",
        "federated_train_loader = sy.FederatedDataLoader(\n",
        "    datasets.MNIST('../data', train=True, download=True,\n",
        "                   transform=transforms.Compose([\n",
        "                       transforms.ToTensor(),\n",
        "                       transforms.Normalize((0.1307,), (0.3081,))\n",
        "                   ]))\n",
        "    .federate((grapevine_high, westside_school)),\n",
        "    batch_size=args['batch_size'], shuffle=True)\n",
        "\n",
        "# test data remains with us locally\n",
        "# this is the normal torch code to load test data from MNIST\n",
        "# that we are all familiar with\n",
        "test_loader = torch.utils.data.DataLoader(\n",
        "        datasets.MNIST('../data', train=False, transform=transforms.Compose([\n",
        "                           transforms.ToTensor(),\n",
        "                           transforms.Normalize((0.1307,), (0.3081,))\n",
        "                       ])),\n",
        "        batch_size=args['test_batch_size'], shuffle=True)"
      ],
      "metadata": {
        "colab": {
          "base_uri": "https://localhost:8080/",
          "height": 347,
          "referenced_widgets": [
            "0ad3084d624246c19de313f55a6ae1f5",
            "8cd7ad3ec99b4f15a018aec07d2fcf5b",
            "b13942489e3d40ca969af134b7dd7dce",
            "69940a7169fd44b89e3188b10f288133",
            "8967f41b53d2413cbcceca99f840b493",
            "272bc0e08add43fb9eed9d503e062310",
            "e9f33e33067045c49993590751dce4fc",
            "f2d508f6d75646e3925e999746881f35",
            "fbb6c05ae98149ca81fabe6ce0328acc",
            "6386d12322b74de8ac2e3fa95b37363d",
            "6c2a4fb8f7e342cd849c19d031004aa0",
            "41838135539344008acb6421c260bbe2",
            "bd3ca2bcf79148d1a8a677abaefa1f78",
            "1f6ca6c2c5a34f8baf83b5181a8fa772",
            "b9980e5d82534e80906c1d30fdc72c12",
            "15fa8e7b94af4644b5c1188112a4ae54",
            "4581d28607a847f0b277ab2c9e5256bf",
            "4086b1f5359046098b43231534855374",
            "3c86f53c005c4b8a94a0611931c7e90d",
            "17c3c9f390e44bc2a9a59e091a4d53ed",
            "aae74a0184c7459283bbde6ad4ec95e5",
            "da59f8bc70fe4c25a5675ec38fb94518",
            "3f63afd9ddbf44c2b26a5c8556ac05b3",
            "61ce25a18bea490c831827e37439651b",
            "f88012cc17664257b44e9608df545aa8",
            "c8b683d60c7244e08e59b7ebfc111ef2",
            "0c3528bb34c04a5ebeb516bc8d59f7a0",
            "e37c78d2e21e4e99870ca9234cd6a762",
            "6092f898c55047e4add9a16227f8545b",
            "3479ec647d3f492e97aaf48154d33285",
            "3d101ef9dc894b85b0af06fa2c3bde49",
            "9bff8226afde44b2a001242d1727a989",
            "58b89c9b947245b088c0c21bba4823dd",
            "1456525f6a4547b0aca68cc2a3041d85",
            "6505bb6bfbbf4aca8ca18c676987342a",
            "d04a45fe03584fa19841ddde9cdd77c9",
            "f01b5790e8f54f0890e5fed2cc25236a",
            "cf0ba2511e6f4344887693026920f75b",
            "2b40842005124e358adf6d52d8bdb6d9",
            "0233b93549dd49f6a6b921b0acf54da9",
            "b45b656804694808a04fd79167f5c467",
            "e55d91c5375f4b79986f67da825a1d31",
            "ebf6ed186c0e4ba8be05f28524c5c5f8",
            "471d606c5b4e47248f93fbae23d93f43"
          ]
        },
        "id": "euUnkgYUE8Kv",
        "outputId": "f99cb64c-5e76-45f2-9621-987e38a07630"
      },
      "execution_count": 12,
      "outputs": [
        {
          "output_type": "stream",
          "name": "stdout",
          "text": [
            "Downloading http://yann.lecun.com/exdb/mnist/train-images-idx3-ubyte.gz to ../data/MNIST/raw/train-images-idx3-ubyte.gz\n"
          ]
        },
        {
          "output_type": "display_data",
          "data": {
            "text/plain": [
              "0it [00:00, ?it/s]"
            ],
            "application/vnd.jupyter.widget-view+json": {
              "version_major": 2,
              "version_minor": 0,
              "model_id": "0ad3084d624246c19de313f55a6ae1f5"
            }
          },
          "metadata": {}
        },
        {
          "output_type": "stream",
          "name": "stdout",
          "text": [
            "Extracting ../data/MNIST/raw/train-images-idx3-ubyte.gz to ../data/MNIST/raw\n",
            "Downloading http://yann.lecun.com/exdb/mnist/train-labels-idx1-ubyte.gz to ../data/MNIST/raw/train-labels-idx1-ubyte.gz\n"
          ]
        },
        {
          "output_type": "display_data",
          "data": {
            "text/plain": [
              "0it [00:00, ?it/s]"
            ],
            "application/vnd.jupyter.widget-view+json": {
              "version_major": 2,
              "version_minor": 0,
              "model_id": "41838135539344008acb6421c260bbe2"
            }
          },
          "metadata": {}
        },
        {
          "output_type": "stream",
          "name": "stdout",
          "text": [
            "Extracting ../data/MNIST/raw/train-labels-idx1-ubyte.gz to ../data/MNIST/raw\n",
            "Downloading http://yann.lecun.com/exdb/mnist/t10k-images-idx3-ubyte.gz to ../data/MNIST/raw/t10k-images-idx3-ubyte.gz\n"
          ]
        },
        {
          "output_type": "display_data",
          "data": {
            "text/plain": [
              "0it [00:00, ?it/s]"
            ],
            "application/vnd.jupyter.widget-view+json": {
              "version_major": 2,
              "version_minor": 0,
              "model_id": "3f63afd9ddbf44c2b26a5c8556ac05b3"
            }
          },
          "metadata": {}
        },
        {
          "output_type": "stream",
          "name": "stdout",
          "text": [
            "Extracting ../data/MNIST/raw/t10k-images-idx3-ubyte.gz to ../data/MNIST/raw\n",
            "Downloading http://yann.lecun.com/exdb/mnist/t10k-labels-idx1-ubyte.gz to ../data/MNIST/raw/t10k-labels-idx1-ubyte.gz\n"
          ]
        },
        {
          "output_type": "display_data",
          "data": {
            "text/plain": [
              "0it [00:00, ?it/s]"
            ],
            "application/vnd.jupyter.widget-view+json": {
              "version_major": 2,
              "version_minor": 0,
              "model_id": "1456525f6a4547b0aca68cc2a3041d85"
            }
          },
          "metadata": {}
        },
        {
          "output_type": "stream",
          "name": "stdout",
          "text": [
            "Extracting ../data/MNIST/raw/t10k-labels-idx1-ubyte.gz to ../data/MNIST/raw\n",
            "Processing...\n",
            "Done!\n"
          ]
        }
      ]
    },
    {
      "cell_type": "markdown",
      "source": [
        "## Training and Validation functions"
      ],
      "metadata": {
        "id": "W4TS6QWcFcst"
      }
    },
    {
      "cell_type": "markdown",
      "source": [
        "![image.png](data:image/png;base64,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)"
      ],
      "metadata": {
        "id": "dsII-FdvFr8r"
      }
    },
    {
      "cell_type": "markdown",
      "source": [
        "Now each time we train the model, we need to send it to the right location for each batch. We used .send() function that we learnt above to do this.\n",
        "\n",
        "Then, we perform all the operations remotely with the same syntax like we’re doing local PyTorch. When we’re done, we get back the updated model using the .get() method. Simple isn’t it ?\n",
        "\n",
        "Note in the below train function that (data, target) is a pair of PointerTensor.\n",
        "In a PointerTensor, we can get the worker it points to using the .location attribute, and that is what precisely we are using to send the model to the correct location."
      ],
      "metadata": {
        "id": "UcPFDTUvFuEz"
      }
    },
    {
      "cell_type": "code",
      "source": [
        "def train(args, model, device, train_loader, optimizer, epoch):\n",
        "    model.train()\n",
        "\n",
        "    # iterate over federated data\n",
        "    for batch_idx, (data, target) in enumerate(train_loader):\n",
        "\n",
        "        # send the model to the remote location \n",
        "        model = model.send(data.location)\n",
        "\n",
        "        # the same torch code that we are use to\n",
        "        data, target = data.to(device), target.to(device)\n",
        "        optimizer.zero_grad()\n",
        "        output = model(data)\n",
        "\n",
        "        # this loss is a ptr to the tensor loss \n",
        "        # at the remote location\n",
        "        loss = F.nll_loss(output, target)\n",
        "\n",
        "        # call backward() on the loss ptr,\n",
        "        # that will send the command to call\n",
        "        # backward on the actual loss tensor\n",
        "        # present on the remote machine\n",
        "        loss.backward()\n",
        "\n",
        "        optimizer.step()\n",
        "\n",
        "        # get back the updated model\n",
        "        model.get()\n",
        "\n",
        "        if batch_idx % args['log_interval'] == 0:\n",
        "\n",
        "            # a thing to note is the variable loss was\n",
        "            # also created at remote worker, so we need to\n",
        "            # explicitly get it back\n",
        "            loss = loss.get()\n",
        "\n",
        "            print('Train Epoch: {} [{}/{} ({:.0f}%)]\\tLoss: {:.6f}'.format(\n",
        "                    epoch, \n",
        "                    batch_idx * args['batch_size'], # no of images done\n",
        "                    len(train_loader) * args['batch_size'], # total images left\n",
        "                    100. * batch_idx / len(train_loader), \n",
        "                    loss.item()\n",
        "                )\n",
        "            )"
      ],
      "metadata": {
        "id": "tbJpKGwdFf9p"
      },
      "execution_count": 13,
      "outputs": []
    },
    {
      "cell_type": "markdown",
      "source": [
        "The test function remains the same as it is run locally on our machine only whereas training happens remotely."
      ],
      "metadata": {
        "id": "iR2usznPF2NR"
      }
    },
    {
      "cell_type": "code",
      "source": [
        "def test(model, device, test_loader):\n",
        "    model.eval()\n",
        "    test_loss = 0\n",
        "    correct = 0\n",
        "    with torch.no_grad():\n",
        "        for data, target in test_loader:\n",
        "            data, target = data.to(device), target.to(device)\n",
        "            output = model(data)\n",
        "\n",
        "            # add losses together\n",
        "            test_loss += F.nll_loss(output, target, reduction='sum').item() \n",
        "\n",
        "            # get the index of the max probability class\n",
        "            pred = output.argmax(dim=1, keepdim=True)  \n",
        "            correct += pred.eq(target.view_as(pred)).sum().item()\n",
        "\n",
        "    test_loss /= len(test_loader.dataset)\n",
        "\n",
        "    print('\\nTest set: Average loss: {:.4f}, Accuracy: {}/{} ({:.0f}%)\\n'.format(\n",
        "        test_loss, correct, len(test_loader.dataset),\n",
        "        100. * correct / len(test_loader.dataset)))"
      ],
      "metadata": {
        "id": "X2A1tpmpFy8i"
      },
      "execution_count": 14,
      "outputs": []
    },
    {
      "cell_type": "markdown",
      "source": [
        "We can now start training the model at last and the best part is, we use the same code when we train the model locally."
      ],
      "metadata": {
        "id": "oYwJxUyeF7rM"
      }
    },
    {
      "cell_type": "code",
      "source": [
        "model = Net().to(device)\n",
        "optimizer = optim.SGD(model.parameters(), lr=args['lr'])\n",
        "\n",
        "logging.info(\"Starting training !!\")\n",
        "\n",
        "for epoch in range(1, args['epochs'] + 1):\n",
        "        train(args, model, device, federated_train_loader, optimizer, epoch)\n",
        "        test(model, device, test_loader)\n",
        "    \n",
        "# thats all we need to do XD"
      ],
      "metadata": {
        "colab": {
          "base_uri": "https://localhost:8080/",
          "height": 1000
        },
        "id": "AnkyE3oxF-BY",
        "outputId": "46c773ae-a9f8-4d3b-9f2a-4090a81b3c69"
      },
      "execution_count": 15,
      "outputs": [
        {
          "output_type": "stream",
          "name": "stdout",
          "text": [
            "Train Epoch: 1 [0/60032 (0%)]\tLoss: 2.296196\n",
            "Train Epoch: 1 [640/60032 (1%)]\tLoss: 2.219435\n",
            "Train Epoch: 1 [1280/60032 (2%)]\tLoss: 2.031152\n",
            "Train Epoch: 1 [1920/60032 (3%)]\tLoss: 1.925716\n",
            "Train Epoch: 1 [2560/60032 (4%)]\tLoss: 1.516023\n",
            "Train Epoch: 1 [3200/60032 (5%)]\tLoss: 1.161142\n",
            "Train Epoch: 1 [3840/60032 (6%)]\tLoss: 0.826113\n",
            "Train Epoch: 1 [4480/60032 (7%)]\tLoss: 0.644923\n",
            "Train Epoch: 1 [5120/60032 (9%)]\tLoss: 0.753165\n",
            "Train Epoch: 1 [5760/60032 (10%)]\tLoss: 0.477175\n",
            "Train Epoch: 1 [6400/60032 (11%)]\tLoss: 0.680291\n",
            "Train Epoch: 1 [7040/60032 (12%)]\tLoss: 0.691731\n",
            "Train Epoch: 1 [7680/60032 (13%)]\tLoss: 0.610803\n",
            "Train Epoch: 1 [8320/60032 (14%)]\tLoss: 0.316480\n",
            "Train Epoch: 1 [8960/60032 (15%)]\tLoss: 0.458795\n",
            "Train Epoch: 1 [9600/60032 (16%)]\tLoss: 0.297134\n",
            "Train Epoch: 1 [10240/60032 (17%)]\tLoss: 0.339250\n",
            "Train Epoch: 1 [10880/60032 (18%)]\tLoss: 0.626656\n",
            "Train Epoch: 1 [11520/60032 (19%)]\tLoss: 0.513018\n",
            "Train Epoch: 1 [12160/60032 (20%)]\tLoss: 0.313240\n",
            "Train Epoch: 1 [12800/60032 (21%)]\tLoss: 0.426567\n",
            "Train Epoch: 1 [13440/60032 (22%)]\tLoss: 0.534163\n",
            "Train Epoch: 1 [14080/60032 (23%)]\tLoss: 0.235983\n",
            "Train Epoch: 1 [14720/60032 (25%)]\tLoss: 0.497914\n",
            "Train Epoch: 1 [15360/60032 (26%)]\tLoss: 0.434721\n",
            "Train Epoch: 1 [16000/60032 (27%)]\tLoss: 0.517615\n",
            "Train Epoch: 1 [16640/60032 (28%)]\tLoss: 0.584114\n",
            "Train Epoch: 1 [17280/60032 (29%)]\tLoss: 0.394273\n",
            "Train Epoch: 1 [17920/60032 (30%)]\tLoss: 0.384490\n",
            "Train Epoch: 1 [18560/60032 (31%)]\tLoss: 0.390292\n",
            "Train Epoch: 1 [19200/60032 (32%)]\tLoss: 0.401498\n",
            "Train Epoch: 1 [19840/60032 (33%)]\tLoss: 0.302801\n",
            "Train Epoch: 1 [20480/60032 (34%)]\tLoss: 0.278535\n",
            "Train Epoch: 1 [21120/60032 (35%)]\tLoss: 0.261673\n",
            "Train Epoch: 1 [21760/60032 (36%)]\tLoss: 0.405996\n",
            "Train Epoch: 1 [22400/60032 (37%)]\tLoss: 0.516158\n",
            "Train Epoch: 1 [23040/60032 (38%)]\tLoss: 0.405671\n",
            "Train Epoch: 1 [23680/60032 (39%)]\tLoss: 0.264187\n",
            "Train Epoch: 1 [24320/60032 (41%)]\tLoss: 0.276565\n",
            "Train Epoch: 1 [24960/60032 (42%)]\tLoss: 0.236620\n",
            "Train Epoch: 1 [25600/60032 (43%)]\tLoss: 0.317502\n",
            "Train Epoch: 1 [26240/60032 (44%)]\tLoss: 0.206653\n",
            "Train Epoch: 1 [26880/60032 (45%)]\tLoss: 0.315485\n",
            "Train Epoch: 1 [27520/60032 (46%)]\tLoss: 0.295842\n",
            "Train Epoch: 1 [28160/60032 (47%)]\tLoss: 0.422115\n",
            "Train Epoch: 1 [28800/60032 (48%)]\tLoss: 0.289113\n",
            "Train Epoch: 1 [29440/60032 (49%)]\tLoss: 0.189118\n",
            "Train Epoch: 1 [30080/60032 (50%)]\tLoss: 0.172652\n",
            "Train Epoch: 1 [30720/60032 (51%)]\tLoss: 0.310900\n",
            "Train Epoch: 1 [31360/60032 (52%)]\tLoss: 0.472633\n",
            "Train Epoch: 1 [32000/60032 (53%)]\tLoss: 0.184535\n",
            "Train Epoch: 1 [32640/60032 (54%)]\tLoss: 0.185216\n",
            "Train Epoch: 1 [33280/60032 (55%)]\tLoss: 0.181087\n",
            "Train Epoch: 1 [33920/60032 (57%)]\tLoss: 0.144058\n",
            "Train Epoch: 1 [34560/60032 (58%)]\tLoss: 0.181215\n",
            "Train Epoch: 1 [35200/60032 (59%)]\tLoss: 0.368480\n",
            "Train Epoch: 1 [35840/60032 (60%)]\tLoss: 0.246299\n",
            "Train Epoch: 1 [36480/60032 (61%)]\tLoss: 0.345340\n",
            "Train Epoch: 1 [37120/60032 (62%)]\tLoss: 0.270518\n",
            "Train Epoch: 1 [37760/60032 (63%)]\tLoss: 0.118833\n",
            "Train Epoch: 1 [38400/60032 (64%)]\tLoss: 0.098930\n",
            "Train Epoch: 1 [39040/60032 (65%)]\tLoss: 0.213664\n",
            "Train Epoch: 1 [39680/60032 (66%)]\tLoss: 0.152791\n",
            "Train Epoch: 1 [40320/60032 (67%)]\tLoss: 0.323332\n",
            "Train Epoch: 1 [40960/60032 (68%)]\tLoss: 0.269319\n",
            "Train Epoch: 1 [41600/60032 (69%)]\tLoss: 0.259296\n",
            "Train Epoch: 1 [42240/60032 (70%)]\tLoss: 0.291610\n",
            "Train Epoch: 1 [42880/60032 (71%)]\tLoss: 0.272594\n",
            "Train Epoch: 1 [43520/60032 (72%)]\tLoss: 0.257770\n",
            "Train Epoch: 1 [44160/60032 (74%)]\tLoss: 0.137517\n",
            "Train Epoch: 1 [44800/60032 (75%)]\tLoss: 0.238361\n",
            "Train Epoch: 1 [45440/60032 (76%)]\tLoss: 0.262165\n",
            "Train Epoch: 1 [46080/60032 (77%)]\tLoss: 0.237366\n",
            "Train Epoch: 1 [46720/60032 (78%)]\tLoss: 0.184839\n",
            "Train Epoch: 1 [47360/60032 (79%)]\tLoss: 0.277677\n",
            "Train Epoch: 1 [48000/60032 (80%)]\tLoss: 0.077393\n",
            "Train Epoch: 1 [48640/60032 (81%)]\tLoss: 0.217406\n",
            "Train Epoch: 1 [49280/60032 (82%)]\tLoss: 0.265540\n",
            "Train Epoch: 1 [49920/60032 (83%)]\tLoss: 0.196149\n",
            "Train Epoch: 1 [50560/60032 (84%)]\tLoss: 0.342169\n",
            "Train Epoch: 1 [51200/60032 (85%)]\tLoss: 0.164151\n",
            "Train Epoch: 1 [51840/60032 (86%)]\tLoss: 0.116228\n",
            "Train Epoch: 1 [52480/60032 (87%)]\tLoss: 0.202701\n",
            "Train Epoch: 1 [53120/60032 (88%)]\tLoss: 0.185507\n",
            "Train Epoch: 1 [53760/60032 (90%)]\tLoss: 0.235344\n",
            "Train Epoch: 1 [54400/60032 (91%)]\tLoss: 0.145788\n",
            "Train Epoch: 1 [55040/60032 (92%)]\tLoss: 0.248416\n",
            "Train Epoch: 1 [55680/60032 (93%)]\tLoss: 0.167493\n",
            "Train Epoch: 1 [56320/60032 (94%)]\tLoss: 0.119717\n",
            "Train Epoch: 1 [56960/60032 (95%)]\tLoss: 0.208779\n",
            "Train Epoch: 1 [57600/60032 (96%)]\tLoss: 0.150912\n",
            "Train Epoch: 1 [58240/60032 (97%)]\tLoss: 0.253105\n",
            "Train Epoch: 1 [58880/60032 (98%)]\tLoss: 0.386426\n",
            "Train Epoch: 1 [59520/60032 (99%)]\tLoss: 0.079570\n",
            "\n",
            "Test set: Average loss: 0.2100, Accuracy: 9344/10000 (93%)\n",
            "\n",
            "Train Epoch: 2 [0/60032 (0%)]\tLoss: 0.174585\n",
            "Train Epoch: 2 [640/60032 (1%)]\tLoss: 0.112209\n",
            "Train Epoch: 2 [1280/60032 (2%)]\tLoss: 0.186841\n",
            "Train Epoch: 2 [1920/60032 (3%)]\tLoss: 0.272976\n",
            "Train Epoch: 2 [2560/60032 (4%)]\tLoss: 0.311698\n",
            "Train Epoch: 2 [3200/60032 (5%)]\tLoss: 0.296448\n",
            "Train Epoch: 2 [3840/60032 (6%)]\tLoss: 0.275785\n",
            "Train Epoch: 2 [4480/60032 (7%)]\tLoss: 0.190504\n",
            "Train Epoch: 2 [5120/60032 (9%)]\tLoss: 0.425482\n",
            "Train Epoch: 2 [5760/60032 (10%)]\tLoss: 0.150126\n",
            "Train Epoch: 2 [6400/60032 (11%)]\tLoss: 0.078130\n",
            "Train Epoch: 2 [7040/60032 (12%)]\tLoss: 0.167564\n",
            "Train Epoch: 2 [7680/60032 (13%)]\tLoss: 0.107930\n",
            "Train Epoch: 2 [8320/60032 (14%)]\tLoss: 0.243124\n",
            "Train Epoch: 2 [8960/60032 (15%)]\tLoss: 0.234415\n",
            "Train Epoch: 2 [9600/60032 (16%)]\tLoss: 0.355232\n",
            "Train Epoch: 2 [10240/60032 (17%)]\tLoss: 0.265166\n",
            "Train Epoch: 2 [10880/60032 (18%)]\tLoss: 0.174041\n",
            "Train Epoch: 2 [11520/60032 (19%)]\tLoss: 0.276997\n",
            "Train Epoch: 2 [12160/60032 (20%)]\tLoss: 0.194215\n",
            "Train Epoch: 2 [12800/60032 (21%)]\tLoss: 0.148538\n",
            "Train Epoch: 2 [13440/60032 (22%)]\tLoss: 0.241968\n",
            "Train Epoch: 2 [14080/60032 (23%)]\tLoss: 0.240180\n",
            "Train Epoch: 2 [14720/60032 (25%)]\tLoss: 0.145330\n",
            "Train Epoch: 2 [15360/60032 (26%)]\tLoss: 0.114815\n",
            "Train Epoch: 2 [16000/60032 (27%)]\tLoss: 0.156509\n",
            "Train Epoch: 2 [16640/60032 (28%)]\tLoss: 0.174492\n",
            "Train Epoch: 2 [17280/60032 (29%)]\tLoss: 0.149277\n",
            "Train Epoch: 2 [17920/60032 (30%)]\tLoss: 0.135687\n",
            "Train Epoch: 2 [18560/60032 (31%)]\tLoss: 0.075572\n",
            "Train Epoch: 2 [19200/60032 (32%)]\tLoss: 0.076932\n",
            "Train Epoch: 2 [19840/60032 (33%)]\tLoss: 0.247015\n",
            "Train Epoch: 2 [20480/60032 (34%)]\tLoss: 0.208906\n",
            "Train Epoch: 2 [21120/60032 (35%)]\tLoss: 0.179790\n",
            "Train Epoch: 2 [21760/60032 (36%)]\tLoss: 0.053520\n",
            "Train Epoch: 2 [22400/60032 (37%)]\tLoss: 0.259501\n",
            "Train Epoch: 2 [23040/60032 (38%)]\tLoss: 0.172053\n",
            "Train Epoch: 2 [23680/60032 (39%)]\tLoss: 0.119853\n",
            "Train Epoch: 2 [24320/60032 (41%)]\tLoss: 0.237376\n",
            "Train Epoch: 2 [24960/60032 (42%)]\tLoss: 0.236031\n",
            "Train Epoch: 2 [25600/60032 (43%)]\tLoss: 0.116214\n",
            "Train Epoch: 2 [26240/60032 (44%)]\tLoss: 0.151384\n",
            "Train Epoch: 2 [26880/60032 (45%)]\tLoss: 0.060895\n",
            "Train Epoch: 2 [27520/60032 (46%)]\tLoss: 0.248842\n",
            "Train Epoch: 2 [28160/60032 (47%)]\tLoss: 0.079712\n",
            "Train Epoch: 2 [28800/60032 (48%)]\tLoss: 0.144277\n",
            "Train Epoch: 2 [29440/60032 (49%)]\tLoss: 0.151099\n",
            "Train Epoch: 2 [30080/60032 (50%)]\tLoss: 0.203594\n",
            "Train Epoch: 2 [30720/60032 (51%)]\tLoss: 0.257601\n",
            "Train Epoch: 2 [31360/60032 (52%)]\tLoss: 0.240517\n",
            "Train Epoch: 2 [32000/60032 (53%)]\tLoss: 0.185520\n",
            "Train Epoch: 2 [32640/60032 (54%)]\tLoss: 0.137730\n",
            "Train Epoch: 2 [33280/60032 (55%)]\tLoss: 0.070273\n",
            "Train Epoch: 2 [33920/60032 (57%)]\tLoss: 0.103341\n",
            "Train Epoch: 2 [34560/60032 (58%)]\tLoss: 0.131545\n",
            "Train Epoch: 2 [35200/60032 (59%)]\tLoss: 0.215150\n",
            "Train Epoch: 2 [35840/60032 (60%)]\tLoss: 0.127203\n",
            "Train Epoch: 2 [36480/60032 (61%)]\tLoss: 0.159742\n",
            "Train Epoch: 2 [37120/60032 (62%)]\tLoss: 0.145437\n",
            "Train Epoch: 2 [37760/60032 (63%)]\tLoss: 0.103081\n",
            "Train Epoch: 2 [38400/60032 (64%)]\tLoss: 0.179070\n",
            "Train Epoch: 2 [39040/60032 (65%)]\tLoss: 0.100997\n",
            "Train Epoch: 2 [39680/60032 (66%)]\tLoss: 0.117068\n",
            "Train Epoch: 2 [40320/60032 (67%)]\tLoss: 0.283437\n",
            "Train Epoch: 2 [40960/60032 (68%)]\tLoss: 0.076539\n",
            "Train Epoch: 2 [41600/60032 (69%)]\tLoss: 0.085152\n",
            "Train Epoch: 2 [42240/60032 (70%)]\tLoss: 0.119856\n",
            "Train Epoch: 2 [42880/60032 (71%)]\tLoss: 0.096099\n",
            "Train Epoch: 2 [43520/60032 (72%)]\tLoss: 0.149252\n",
            "Train Epoch: 2 [44160/60032 (74%)]\tLoss: 0.106874\n",
            "Train Epoch: 2 [44800/60032 (75%)]\tLoss: 0.248516\n",
            "Train Epoch: 2 [45440/60032 (76%)]\tLoss: 0.188955\n",
            "Train Epoch: 2 [46080/60032 (77%)]\tLoss: 0.213969\n",
            "Train Epoch: 2 [46720/60032 (78%)]\tLoss: 0.155330\n",
            "Train Epoch: 2 [47360/60032 (79%)]\tLoss: 0.105362\n",
            "Train Epoch: 2 [48000/60032 (80%)]\tLoss: 0.173934\n",
            "Train Epoch: 2 [48640/60032 (81%)]\tLoss: 0.071218\n",
            "Train Epoch: 2 [49280/60032 (82%)]\tLoss: 0.128345\n",
            "Train Epoch: 2 [49920/60032 (83%)]\tLoss: 0.193570\n",
            "Train Epoch: 2 [50560/60032 (84%)]\tLoss: 0.160152\n",
            "Train Epoch: 2 [51200/60032 (85%)]\tLoss: 0.126794\n",
            "Train Epoch: 2 [51840/60032 (86%)]\tLoss: 0.213019\n",
            "Train Epoch: 2 [52480/60032 (87%)]\tLoss: 0.205860\n",
            "Train Epoch: 2 [53120/60032 (88%)]\tLoss: 0.237182\n",
            "Train Epoch: 2 [53760/60032 (90%)]\tLoss: 0.114651\n",
            "Train Epoch: 2 [54400/60032 (91%)]\tLoss: 0.147431\n",
            "Train Epoch: 2 [55040/60032 (92%)]\tLoss: 0.041509\n",
            "Train Epoch: 2 [55680/60032 (93%)]\tLoss: 0.073612\n",
            "Train Epoch: 2 [56320/60032 (94%)]\tLoss: 0.209877\n",
            "Train Epoch: 2 [56960/60032 (95%)]\tLoss: 0.140163\n",
            "Train Epoch: 2 [57600/60032 (96%)]\tLoss: 0.063441\n",
            "Train Epoch: 2 [58240/60032 (97%)]\tLoss: 0.214772\n",
            "Train Epoch: 2 [58880/60032 (98%)]\tLoss: 0.095344\n",
            "Train Epoch: 2 [59520/60032 (99%)]\tLoss: 0.191597\n",
            "\n",
            "Test set: Average loss: 0.1229, Accuracy: 9615/10000 (96%)\n",
            "\n",
            "Train Epoch: 3 [0/60032 (0%)]\tLoss: 0.152348\n",
            "Train Epoch: 3 [640/60032 (1%)]\tLoss: 0.065871\n",
            "Train Epoch: 3 [1280/60032 (2%)]\tLoss: 0.170461\n",
            "Train Epoch: 3 [1920/60032 (3%)]\tLoss: 0.176516\n",
            "Train Epoch: 3 [2560/60032 (4%)]\tLoss: 0.161557\n",
            "Train Epoch: 3 [3200/60032 (5%)]\tLoss: 0.101372\n",
            "Train Epoch: 3 [3840/60032 (6%)]\tLoss: 0.219807\n",
            "Train Epoch: 3 [4480/60032 (7%)]\tLoss: 0.173717\n",
            "Train Epoch: 3 [5120/60032 (9%)]\tLoss: 0.174602\n",
            "Train Epoch: 3 [5760/60032 (10%)]\tLoss: 0.070208\n",
            "Train Epoch: 3 [6400/60032 (11%)]\tLoss: 0.308636\n",
            "Train Epoch: 3 [7040/60032 (12%)]\tLoss: 0.295160\n",
            "Train Epoch: 3 [7680/60032 (13%)]\tLoss: 0.207948\n",
            "Train Epoch: 3 [8320/60032 (14%)]\tLoss: 0.228550\n",
            "Train Epoch: 3 [8960/60032 (15%)]\tLoss: 0.145878\n",
            "Train Epoch: 3 [9600/60032 (16%)]\tLoss: 0.112995\n",
            "Train Epoch: 3 [10240/60032 (17%)]\tLoss: 0.054716\n",
            "Train Epoch: 3 [10880/60032 (18%)]\tLoss: 0.158979\n",
            "Train Epoch: 3 [11520/60032 (19%)]\tLoss: 0.042120\n",
            "Train Epoch: 3 [12160/60032 (20%)]\tLoss: 0.118270\n",
            "Train Epoch: 3 [12800/60032 (21%)]\tLoss: 0.061292\n",
            "Train Epoch: 3 [13440/60032 (22%)]\tLoss: 0.209491\n",
            "Train Epoch: 3 [14080/60032 (23%)]\tLoss: 0.106440\n",
            "Train Epoch: 3 [14720/60032 (25%)]\tLoss: 0.049315\n",
            "Train Epoch: 3 [15360/60032 (26%)]\tLoss: 0.065455\n",
            "Train Epoch: 3 [16000/60032 (27%)]\tLoss: 0.337360\n",
            "Train Epoch: 3 [16640/60032 (28%)]\tLoss: 0.081063\n",
            "Train Epoch: 3 [17280/60032 (29%)]\tLoss: 0.167413\n",
            "Train Epoch: 3 [17920/60032 (30%)]\tLoss: 0.206269\n",
            "Train Epoch: 3 [18560/60032 (31%)]\tLoss: 0.083302\n",
            "Train Epoch: 3 [19200/60032 (32%)]\tLoss: 0.271043\n",
            "Train Epoch: 3 [19840/60032 (33%)]\tLoss: 0.100315\n",
            "Train Epoch: 3 [20480/60032 (34%)]\tLoss: 0.218075\n",
            "Train Epoch: 3 [21120/60032 (35%)]\tLoss: 0.207974\n",
            "Train Epoch: 3 [21760/60032 (36%)]\tLoss: 0.078030\n",
            "Train Epoch: 3 [22400/60032 (37%)]\tLoss: 0.182566\n",
            "Train Epoch: 3 [23040/60032 (38%)]\tLoss: 0.088564\n",
            "Train Epoch: 3 [23680/60032 (39%)]\tLoss: 0.063688\n",
            "Train Epoch: 3 [24320/60032 (41%)]\tLoss: 0.079558\n",
            "Train Epoch: 3 [24960/60032 (42%)]\tLoss: 0.166525\n",
            "Train Epoch: 3 [25600/60032 (43%)]\tLoss: 0.030812\n",
            "Train Epoch: 3 [26240/60032 (44%)]\tLoss: 0.238251\n",
            "Train Epoch: 3 [26880/60032 (45%)]\tLoss: 0.224965\n",
            "Train Epoch: 3 [27520/60032 (46%)]\tLoss: 0.109788\n",
            "Train Epoch: 3 [28160/60032 (47%)]\tLoss: 0.098020\n",
            "Train Epoch: 3 [28800/60032 (48%)]\tLoss: 0.042800\n",
            "Train Epoch: 3 [29440/60032 (49%)]\tLoss: 0.077005\n",
            "Train Epoch: 3 [30080/60032 (50%)]\tLoss: 0.096310\n",
            "Train Epoch: 3 [30720/60032 (51%)]\tLoss: 0.067418\n",
            "Train Epoch: 3 [31360/60032 (52%)]\tLoss: 0.090559\n",
            "Train Epoch: 3 [32000/60032 (53%)]\tLoss: 0.105406\n",
            "Train Epoch: 3 [32640/60032 (54%)]\tLoss: 0.052788\n",
            "Train Epoch: 3 [33280/60032 (55%)]\tLoss: 0.166302\n",
            "Train Epoch: 3 [33920/60032 (57%)]\tLoss: 0.056975\n",
            "Train Epoch: 3 [34560/60032 (58%)]\tLoss: 0.083447\n",
            "Train Epoch: 3 [35200/60032 (59%)]\tLoss: 0.157524\n",
            "Train Epoch: 3 [35840/60032 (60%)]\tLoss: 0.118073\n",
            "Train Epoch: 3 [36480/60032 (61%)]\tLoss: 0.215144\n",
            "Train Epoch: 3 [37120/60032 (62%)]\tLoss: 0.058144\n",
            "Train Epoch: 3 [37760/60032 (63%)]\tLoss: 0.098680\n",
            "Train Epoch: 3 [38400/60032 (64%)]\tLoss: 0.163519\n",
            "Train Epoch: 3 [39040/60032 (65%)]\tLoss: 0.079933\n",
            "Train Epoch: 3 [39680/60032 (66%)]\tLoss: 0.201427\n",
            "Train Epoch: 3 [40320/60032 (67%)]\tLoss: 0.050891\n",
            "Train Epoch: 3 [40960/60032 (68%)]\tLoss: 0.186519\n",
            "Train Epoch: 3 [41600/60032 (69%)]\tLoss: 0.100503\n",
            "Train Epoch: 3 [42240/60032 (70%)]\tLoss: 0.150106\n",
            "Train Epoch: 3 [42880/60032 (71%)]\tLoss: 0.101580\n",
            "Train Epoch: 3 [43520/60032 (72%)]\tLoss: 0.043878\n",
            "Train Epoch: 3 [44160/60032 (74%)]\tLoss: 0.089189\n",
            "Train Epoch: 3 [44800/60032 (75%)]\tLoss: 0.056548\n",
            "Train Epoch: 3 [45440/60032 (76%)]\tLoss: 0.032870\n",
            "Train Epoch: 3 [46080/60032 (77%)]\tLoss: 0.261893\n",
            "Train Epoch: 3 [46720/60032 (78%)]\tLoss: 0.023319\n",
            "Train Epoch: 3 [47360/60032 (79%)]\tLoss: 0.019882\n",
            "Train Epoch: 3 [48000/60032 (80%)]\tLoss: 0.057372\n",
            "Train Epoch: 3 [48640/60032 (81%)]\tLoss: 0.045022\n",
            "Train Epoch: 3 [49280/60032 (82%)]\tLoss: 0.133890\n",
            "Train Epoch: 3 [49920/60032 (83%)]\tLoss: 0.217492\n",
            "Train Epoch: 3 [50560/60032 (84%)]\tLoss: 0.122615\n",
            "Train Epoch: 3 [51200/60032 (85%)]\tLoss: 0.052355\n",
            "Train Epoch: 3 [51840/60032 (86%)]\tLoss: 0.021843\n",
            "Train Epoch: 3 [52480/60032 (87%)]\tLoss: 0.048169\n",
            "Train Epoch: 3 [53120/60032 (88%)]\tLoss: 0.241424\n",
            "Train Epoch: 3 [53760/60032 (90%)]\tLoss: 0.110692\n",
            "Train Epoch: 3 [54400/60032 (91%)]\tLoss: 0.221689\n",
            "Train Epoch: 3 [55040/60032 (92%)]\tLoss: 0.072850\n",
            "Train Epoch: 3 [55680/60032 (93%)]\tLoss: 0.175065\n",
            "Train Epoch: 3 [56320/60032 (94%)]\tLoss: 0.025637\n",
            "Train Epoch: 3 [56960/60032 (95%)]\tLoss: 0.167978\n",
            "Train Epoch: 3 [57600/60032 (96%)]\tLoss: 0.301422\n",
            "Train Epoch: 3 [58240/60032 (97%)]\tLoss: 0.088452\n",
            "Train Epoch: 3 [58880/60032 (98%)]\tLoss: 0.115914\n",
            "Train Epoch: 3 [59520/60032 (99%)]\tLoss: 0.081770\n",
            "\n",
            "Test set: Average loss: 0.1504, Accuracy: 9479/10000 (95%)\n",
            "\n",
            "Train Epoch: 4 [0/60032 (0%)]\tLoss: 0.169519\n",
            "Train Epoch: 4 [640/60032 (1%)]\tLoss: 0.081614\n",
            "Train Epoch: 4 [1280/60032 (2%)]\tLoss: 0.062584\n",
            "Train Epoch: 4 [1920/60032 (3%)]\tLoss: 0.040515\n",
            "Train Epoch: 4 [2560/60032 (4%)]\tLoss: 0.076152\n",
            "Train Epoch: 4 [3200/60032 (5%)]\tLoss: 0.197857\n",
            "Train Epoch: 4 [3840/60032 (6%)]\tLoss: 0.098314\n",
            "Train Epoch: 4 [4480/60032 (7%)]\tLoss: 0.265986\n",
            "Train Epoch: 4 [5120/60032 (9%)]\tLoss: 0.049022\n",
            "Train Epoch: 4 [5760/60032 (10%)]\tLoss: 0.168706\n",
            "Train Epoch: 4 [6400/60032 (11%)]\tLoss: 0.101812\n",
            "Train Epoch: 4 [7040/60032 (12%)]\tLoss: 0.218003\n",
            "Train Epoch: 4 [7680/60032 (13%)]\tLoss: 0.048507\n",
            "Train Epoch: 4 [8320/60032 (14%)]\tLoss: 0.135705\n",
            "Train Epoch: 4 [8960/60032 (15%)]\tLoss: 0.023749\n",
            "Train Epoch: 4 [9600/60032 (16%)]\tLoss: 0.051854\n",
            "Train Epoch: 4 [10240/60032 (17%)]\tLoss: 0.047936\n",
            "Train Epoch: 4 [10880/60032 (18%)]\tLoss: 0.019636\n",
            "Train Epoch: 4 [11520/60032 (19%)]\tLoss: 0.164897\n",
            "Train Epoch: 4 [12160/60032 (20%)]\tLoss: 0.095286\n",
            "Train Epoch: 4 [12800/60032 (21%)]\tLoss: 0.166953\n",
            "Train Epoch: 4 [13440/60032 (22%)]\tLoss: 0.105701\n",
            "Train Epoch: 4 [14080/60032 (23%)]\tLoss: 0.090187\n",
            "Train Epoch: 4 [14720/60032 (25%)]\tLoss: 0.157509\n",
            "Train Epoch: 4 [15360/60032 (26%)]\tLoss: 0.089308\n",
            "Train Epoch: 4 [16000/60032 (27%)]\tLoss: 0.096030\n",
            "Train Epoch: 4 [16640/60032 (28%)]\tLoss: 0.107039\n",
            "Train Epoch: 4 [17280/60032 (29%)]\tLoss: 0.051294\n",
            "Train Epoch: 4 [17920/60032 (30%)]\tLoss: 0.065076\n",
            "Train Epoch: 4 [18560/60032 (31%)]\tLoss: 0.118557\n",
            "Train Epoch: 4 [19200/60032 (32%)]\tLoss: 0.121740\n",
            "Train Epoch: 4 [19840/60032 (33%)]\tLoss: 0.050548\n",
            "Train Epoch: 4 [20480/60032 (34%)]\tLoss: 0.107329\n",
            "Train Epoch: 4 [21120/60032 (35%)]\tLoss: 0.025472\n",
            "Train Epoch: 4 [21760/60032 (36%)]\tLoss: 0.035979\n",
            "Train Epoch: 4 [22400/60032 (37%)]\tLoss: 0.091047\n",
            "Train Epoch: 4 [23040/60032 (38%)]\tLoss: 0.057140\n",
            "Train Epoch: 4 [23680/60032 (39%)]\tLoss: 0.060032\n",
            "Train Epoch: 4 [24320/60032 (41%)]\tLoss: 0.130907\n",
            "Train Epoch: 4 [24960/60032 (42%)]\tLoss: 0.131910\n",
            "Train Epoch: 4 [25600/60032 (43%)]\tLoss: 0.170436\n",
            "Train Epoch: 4 [26240/60032 (44%)]\tLoss: 0.088374\n",
            "Train Epoch: 4 [26880/60032 (45%)]\tLoss: 0.058519\n",
            "Train Epoch: 4 [27520/60032 (46%)]\tLoss: 0.057846\n",
            "Train Epoch: 4 [28160/60032 (47%)]\tLoss: 0.163371\n",
            "Train Epoch: 4 [28800/60032 (48%)]\tLoss: 0.089767\n",
            "Train Epoch: 4 [29440/60032 (49%)]\tLoss: 0.040284\n",
            "Train Epoch: 4 [30080/60032 (50%)]\tLoss: 0.038401\n",
            "Train Epoch: 4 [30720/60032 (51%)]\tLoss: 0.219311\n",
            "Train Epoch: 4 [31360/60032 (52%)]\tLoss: 0.376595\n",
            "Train Epoch: 4 [32000/60032 (53%)]\tLoss: 0.090085\n",
            "Train Epoch: 4 [32640/60032 (54%)]\tLoss: 0.092260\n",
            "Train Epoch: 4 [33280/60032 (55%)]\tLoss: 0.059005\n",
            "Train Epoch: 4 [33920/60032 (57%)]\tLoss: 0.103155\n",
            "Train Epoch: 4 [34560/60032 (58%)]\tLoss: 0.080556\n",
            "Train Epoch: 4 [35200/60032 (59%)]\tLoss: 0.036520\n",
            "Train Epoch: 4 [35840/60032 (60%)]\tLoss: 0.105839\n",
            "Train Epoch: 4 [36480/60032 (61%)]\tLoss: 0.113380\n",
            "Train Epoch: 4 [37120/60032 (62%)]\tLoss: 0.090274\n",
            "Train Epoch: 4 [37760/60032 (63%)]\tLoss: 0.057627\n",
            "Train Epoch: 4 [38400/60032 (64%)]\tLoss: 0.060537\n",
            "Train Epoch: 4 [39040/60032 (65%)]\tLoss: 0.071672\n",
            "Train Epoch: 4 [39680/60032 (66%)]\tLoss: 0.016016\n",
            "Train Epoch: 4 [40320/60032 (67%)]\tLoss: 0.072536\n",
            "Train Epoch: 4 [40960/60032 (68%)]\tLoss: 0.070627\n",
            "Train Epoch: 4 [41600/60032 (69%)]\tLoss: 0.105721\n",
            "Train Epoch: 4 [42240/60032 (70%)]\tLoss: 0.100843\n",
            "Train Epoch: 4 [42880/60032 (71%)]\tLoss: 0.104005\n",
            "Train Epoch: 4 [43520/60032 (72%)]\tLoss: 0.068163\n",
            "Train Epoch: 4 [44160/60032 (74%)]\tLoss: 0.060391\n",
            "Train Epoch: 4 [44800/60032 (75%)]\tLoss: 0.024101\n",
            "Train Epoch: 4 [45440/60032 (76%)]\tLoss: 0.098244\n",
            "Train Epoch: 4 [46080/60032 (77%)]\tLoss: 0.092816\n",
            "Train Epoch: 4 [46720/60032 (78%)]\tLoss: 0.103887\n",
            "Train Epoch: 4 [47360/60032 (79%)]\tLoss: 0.028535\n",
            "Train Epoch: 4 [48000/60032 (80%)]\tLoss: 0.074429\n",
            "Train Epoch: 4 [48640/60032 (81%)]\tLoss: 0.087714\n",
            "Train Epoch: 4 [49280/60032 (82%)]\tLoss: 0.018931\n",
            "Train Epoch: 4 [49920/60032 (83%)]\tLoss: 0.104344\n",
            "Train Epoch: 4 [50560/60032 (84%)]\tLoss: 0.288328\n",
            "Train Epoch: 4 [51200/60032 (85%)]\tLoss: 0.093322\n",
            "Train Epoch: 4 [51840/60032 (86%)]\tLoss: 0.116958\n",
            "Train Epoch: 4 [52480/60032 (87%)]\tLoss: 0.048391\n",
            "Train Epoch: 4 [53120/60032 (88%)]\tLoss: 0.221922\n",
            "Train Epoch: 4 [53760/60032 (90%)]\tLoss: 0.037958\n",
            "Train Epoch: 4 [54400/60032 (91%)]\tLoss: 0.039897\n",
            "Train Epoch: 4 [55040/60032 (92%)]\tLoss: 0.150105\n",
            "Train Epoch: 4 [55680/60032 (93%)]\tLoss: 0.167086\n",
            "Train Epoch: 4 [56320/60032 (94%)]\tLoss: 0.088712\n",
            "Train Epoch: 4 [56960/60032 (95%)]\tLoss: 0.023727\n",
            "Train Epoch: 4 [57600/60032 (96%)]\tLoss: 0.046551\n",
            "Train Epoch: 4 [58240/60032 (97%)]\tLoss: 0.102380\n",
            "Train Epoch: 4 [58880/60032 (98%)]\tLoss: 0.067925\n",
            "Train Epoch: 4 [59520/60032 (99%)]\tLoss: 0.142516\n",
            "\n",
            "Test set: Average loss: 0.0779, Accuracy: 9768/10000 (98%)\n",
            "\n",
            "Train Epoch: 5 [0/60032 (0%)]\tLoss: 0.073979\n",
            "Train Epoch: 5 [640/60032 (1%)]\tLoss: 0.021888\n",
            "Train Epoch: 5 [1280/60032 (2%)]\tLoss: 0.066743\n",
            "Train Epoch: 5 [1920/60032 (3%)]\tLoss: 0.026952\n",
            "Train Epoch: 5 [2560/60032 (4%)]\tLoss: 0.104628\n",
            "Train Epoch: 5 [3200/60032 (5%)]\tLoss: 0.092778\n",
            "Train Epoch: 5 [3840/60032 (6%)]\tLoss: 0.057581\n",
            "Train Epoch: 5 [4480/60032 (7%)]\tLoss: 0.058140\n",
            "Train Epoch: 5 [5120/60032 (9%)]\tLoss: 0.059455\n",
            "Train Epoch: 5 [5760/60032 (10%)]\tLoss: 0.073131\n",
            "Train Epoch: 5 [6400/60032 (11%)]\tLoss: 0.120196\n",
            "Train Epoch: 5 [7040/60032 (12%)]\tLoss: 0.056483\n",
            "Train Epoch: 5 [7680/60032 (13%)]\tLoss: 0.015330\n",
            "Train Epoch: 5 [8320/60032 (14%)]\tLoss: 0.039314\n",
            "Train Epoch: 5 [8960/60032 (15%)]\tLoss: 0.112944\n",
            "Train Epoch: 5 [9600/60032 (16%)]\tLoss: 0.063586\n",
            "Train Epoch: 5 [10240/60032 (17%)]\tLoss: 0.051569\n",
            "Train Epoch: 5 [10880/60032 (18%)]\tLoss: 0.078382\n",
            "Train Epoch: 5 [11520/60032 (19%)]\tLoss: 0.122909\n",
            "Train Epoch: 5 [12160/60032 (20%)]\tLoss: 0.030257\n",
            "Train Epoch: 5 [12800/60032 (21%)]\tLoss: 0.020887\n",
            "Train Epoch: 5 [13440/60032 (22%)]\tLoss: 0.178691\n",
            "Train Epoch: 5 [14080/60032 (23%)]\tLoss: 0.052740\n",
            "Train Epoch: 5 [14720/60032 (25%)]\tLoss: 0.089954\n",
            "Train Epoch: 5 [15360/60032 (26%)]\tLoss: 0.063358\n",
            "Train Epoch: 5 [16000/60032 (27%)]\tLoss: 0.018557\n",
            "Train Epoch: 5 [16640/60032 (28%)]\tLoss: 0.191590\n",
            "Train Epoch: 5 [17280/60032 (29%)]\tLoss: 0.085701\n",
            "Train Epoch: 5 [17920/60032 (30%)]\tLoss: 0.025956\n",
            "Train Epoch: 5 [18560/60032 (31%)]\tLoss: 0.060197\n",
            "Train Epoch: 5 [19200/60032 (32%)]\tLoss: 0.074102\n",
            "Train Epoch: 5 [19840/60032 (33%)]\tLoss: 0.149901\n",
            "Train Epoch: 5 [20480/60032 (34%)]\tLoss: 0.009476\n",
            "Train Epoch: 5 [21120/60032 (35%)]\tLoss: 0.215624\n",
            "Train Epoch: 5 [21760/60032 (36%)]\tLoss: 0.068931\n",
            "Train Epoch: 5 [22400/60032 (37%)]\tLoss: 0.136346\n",
            "Train Epoch: 5 [23040/60032 (38%)]\tLoss: 0.066591\n",
            "Train Epoch: 5 [23680/60032 (39%)]\tLoss: 0.122208\n",
            "Train Epoch: 5 [24320/60032 (41%)]\tLoss: 0.095657\n",
            "Train Epoch: 5 [24960/60032 (42%)]\tLoss: 0.053104\n",
            "Train Epoch: 5 [25600/60032 (43%)]\tLoss: 0.066280\n",
            "Train Epoch: 5 [26240/60032 (44%)]\tLoss: 0.070041\n",
            "Train Epoch: 5 [26880/60032 (45%)]\tLoss: 0.089288\n",
            "Train Epoch: 5 [27520/60032 (46%)]\tLoss: 0.031880\n",
            "Train Epoch: 5 [28160/60032 (47%)]\tLoss: 0.027153\n",
            "Train Epoch: 5 [28800/60032 (48%)]\tLoss: 0.087851\n",
            "Train Epoch: 5 [29440/60032 (49%)]\tLoss: 0.145505\n",
            "Train Epoch: 5 [30080/60032 (50%)]\tLoss: 0.226203\n",
            "Train Epoch: 5 [30720/60032 (51%)]\tLoss: 0.039979\n",
            "Train Epoch: 5 [31360/60032 (52%)]\tLoss: 0.043464\n",
            "Train Epoch: 5 [32000/60032 (53%)]\tLoss: 0.025872\n",
            "Train Epoch: 5 [32640/60032 (54%)]\tLoss: 0.119171\n",
            "Train Epoch: 5 [33280/60032 (55%)]\tLoss: 0.144267\n",
            "Train Epoch: 5 [33920/60032 (57%)]\tLoss: 0.038495\n",
            "Train Epoch: 5 [34560/60032 (58%)]\tLoss: 0.045262\n",
            "Train Epoch: 5 [35200/60032 (59%)]\tLoss: 0.023888\n",
            "Train Epoch: 5 [35840/60032 (60%)]\tLoss: 0.006205\n",
            "Train Epoch: 5 [36480/60032 (61%)]\tLoss: 0.072483\n",
            "Train Epoch: 5 [37120/60032 (62%)]\tLoss: 0.046140\n",
            "Train Epoch: 5 [37760/60032 (63%)]\tLoss: 0.110801\n",
            "Train Epoch: 5 [38400/60032 (64%)]\tLoss: 0.075801\n",
            "Train Epoch: 5 [39040/60032 (65%)]\tLoss: 0.089558\n",
            "Train Epoch: 5 [39680/60032 (66%)]\tLoss: 0.179300\n",
            "Train Epoch: 5 [40320/60032 (67%)]\tLoss: 0.033421\n",
            "Train Epoch: 5 [40960/60032 (68%)]\tLoss: 0.052273\n",
            "Train Epoch: 5 [41600/60032 (69%)]\tLoss: 0.123427\n",
            "Train Epoch: 5 [42240/60032 (70%)]\tLoss: 0.036307\n",
            "Train Epoch: 5 [42880/60032 (71%)]\tLoss: 0.054738\n",
            "Train Epoch: 5 [43520/60032 (72%)]\tLoss: 0.200648\n",
            "Train Epoch: 5 [44160/60032 (74%)]\tLoss: 0.157030\n",
            "Train Epoch: 5 [44800/60032 (75%)]\tLoss: 0.111167\n",
            "Train Epoch: 5 [45440/60032 (76%)]\tLoss: 0.049881\n",
            "Train Epoch: 5 [46080/60032 (77%)]\tLoss: 0.124280\n",
            "Train Epoch: 5 [46720/60032 (78%)]\tLoss: 0.057935\n",
            "Train Epoch: 5 [47360/60032 (79%)]\tLoss: 0.016821\n",
            "Train Epoch: 5 [48000/60032 (80%)]\tLoss: 0.196390\n",
            "Train Epoch: 5 [48640/60032 (81%)]\tLoss: 0.080400\n",
            "Train Epoch: 5 [49280/60032 (82%)]\tLoss: 0.038233\n",
            "Train Epoch: 5 [49920/60032 (83%)]\tLoss: 0.030809\n",
            "Train Epoch: 5 [50560/60032 (84%)]\tLoss: 0.019402\n",
            "Train Epoch: 5 [51200/60032 (85%)]\tLoss: 0.016897\n",
            "Train Epoch: 5 [51840/60032 (86%)]\tLoss: 0.032776\n",
            "Train Epoch: 5 [52480/60032 (87%)]\tLoss: 0.043490\n",
            "Train Epoch: 5 [53120/60032 (88%)]\tLoss: 0.123235\n",
            "Train Epoch: 5 [53760/60032 (90%)]\tLoss: 0.054676\n",
            "Train Epoch: 5 [54400/60032 (91%)]\tLoss: 0.082475\n",
            "Train Epoch: 5 [55040/60032 (92%)]\tLoss: 0.104843\n",
            "Train Epoch: 5 [55680/60032 (93%)]\tLoss: 0.050558\n",
            "Train Epoch: 5 [56320/60032 (94%)]\tLoss: 0.041930\n",
            "Train Epoch: 5 [56960/60032 (95%)]\tLoss: 0.130416\n",
            "Train Epoch: 5 [57600/60032 (96%)]\tLoss: 0.131454\n",
            "Train Epoch: 5 [58240/60032 (97%)]\tLoss: 0.023310\n",
            "Train Epoch: 5 [58880/60032 (98%)]\tLoss: 0.009687\n",
            "Train Epoch: 5 [59520/60032 (99%)]\tLoss: 0.161382\n",
            "\n",
            "Test set: Average loss: 0.0766, Accuracy: 9764/10000 (98%)\n",
            "\n",
            "Train Epoch: 6 [0/60032 (0%)]\tLoss: 0.011083\n",
            "Train Epoch: 6 [640/60032 (1%)]\tLoss: 0.052203\n",
            "Train Epoch: 6 [1280/60032 (2%)]\tLoss: 0.023989\n",
            "Train Epoch: 6 [1920/60032 (3%)]\tLoss: 0.073085\n",
            "Train Epoch: 6 [2560/60032 (4%)]\tLoss: 0.089722\n",
            "Train Epoch: 6 [3200/60032 (5%)]\tLoss: 0.023624\n",
            "Train Epoch: 6 [3840/60032 (6%)]\tLoss: 0.022136\n",
            "Train Epoch: 6 [4480/60032 (7%)]\tLoss: 0.060354\n",
            "Train Epoch: 6 [5120/60032 (9%)]\tLoss: 0.097079\n",
            "Train Epoch: 6 [5760/60032 (10%)]\tLoss: 0.027277\n",
            "Train Epoch: 6 [6400/60032 (11%)]\tLoss: 0.033307\n",
            "Train Epoch: 6 [7040/60032 (12%)]\tLoss: 0.063593\n",
            "Train Epoch: 6 [7680/60032 (13%)]\tLoss: 0.073593\n",
            "Train Epoch: 6 [8320/60032 (14%)]\tLoss: 0.028229\n"
          ]
        },
        {
          "output_type": "error",
          "ename": "KeyboardInterrupt",
          "evalue": "ignored",
          "traceback": [
            "\u001b[0;31m---------------------------------------------------------------------------\u001b[0m",
            "\u001b[0;31mKeyboardInterrupt\u001b[0m                         Traceback (most recent call last)",
            "\u001b[0;32m<ipython-input-15-6ae891d3f3f4>\u001b[0m in \u001b[0;36m<module>\u001b[0;34m\u001b[0m\n\u001b[1;32m      5\u001b[0m \u001b[0;34m\u001b[0m\u001b[0m\n\u001b[1;32m      6\u001b[0m \u001b[0;32mfor\u001b[0m \u001b[0mepoch\u001b[0m \u001b[0;32min\u001b[0m \u001b[0mrange\u001b[0m\u001b[0;34m(\u001b[0m\u001b[0;36m1\u001b[0m\u001b[0;34m,\u001b[0m \u001b[0margs\u001b[0m\u001b[0;34m[\u001b[0m\u001b[0;34m'epochs'\u001b[0m\u001b[0;34m]\u001b[0m \u001b[0;34m+\u001b[0m \u001b[0;36m1\u001b[0m\u001b[0;34m)\u001b[0m\u001b[0;34m:\u001b[0m\u001b[0;34m\u001b[0m\u001b[0;34m\u001b[0m\u001b[0m\n\u001b[0;32m----> 7\u001b[0;31m         \u001b[0mtrain\u001b[0m\u001b[0;34m(\u001b[0m\u001b[0margs\u001b[0m\u001b[0;34m,\u001b[0m \u001b[0mmodel\u001b[0m\u001b[0;34m,\u001b[0m \u001b[0mdevice\u001b[0m\u001b[0;34m,\u001b[0m \u001b[0mfederated_train_loader\u001b[0m\u001b[0;34m,\u001b[0m \u001b[0moptimizer\u001b[0m\u001b[0;34m,\u001b[0m \u001b[0mepoch\u001b[0m\u001b[0;34m)\u001b[0m\u001b[0;34m\u001b[0m\u001b[0;34m\u001b[0m\u001b[0m\n\u001b[0m\u001b[1;32m      8\u001b[0m         \u001b[0mtest\u001b[0m\u001b[0;34m(\u001b[0m\u001b[0mmodel\u001b[0m\u001b[0;34m,\u001b[0m \u001b[0mdevice\u001b[0m\u001b[0;34m,\u001b[0m \u001b[0mtest_loader\u001b[0m\u001b[0;34m)\u001b[0m\u001b[0;34m\u001b[0m\u001b[0;34m\u001b[0m\u001b[0m\n\u001b[1;32m      9\u001b[0m \u001b[0;34m\u001b[0m\u001b[0m\n",
            "\u001b[0;32m<ipython-input-13-0f29807e2837>\u001b[0m in \u001b[0;36mtrain\u001b[0;34m(args, model, device, train_loader, optimizer, epoch)\u001b[0m\n\u001b[1;32m     21\u001b[0m         \u001b[0;31m# backward on the actual loss tensor\u001b[0m\u001b[0;34m\u001b[0m\u001b[0;34m\u001b[0m\u001b[0;34m\u001b[0m\u001b[0m\n\u001b[1;32m     22\u001b[0m         \u001b[0;31m# present on the remote machine\u001b[0m\u001b[0;34m\u001b[0m\u001b[0;34m\u001b[0m\u001b[0;34m\u001b[0m\u001b[0m\n\u001b[0;32m---> 23\u001b[0;31m         \u001b[0mloss\u001b[0m\u001b[0;34m.\u001b[0m\u001b[0mbackward\u001b[0m\u001b[0;34m(\u001b[0m\u001b[0;34m)\u001b[0m\u001b[0;34m\u001b[0m\u001b[0;34m\u001b[0m\u001b[0m\n\u001b[0m\u001b[1;32m     24\u001b[0m \u001b[0;34m\u001b[0m\u001b[0m\n\u001b[1;32m     25\u001b[0m         \u001b[0moptimizer\u001b[0m\u001b[0;34m.\u001b[0m\u001b[0mstep\u001b[0m\u001b[0;34m(\u001b[0m\u001b[0;34m)\u001b[0m\u001b[0;34m\u001b[0m\u001b[0;34m\u001b[0m\u001b[0m\n",
            "\u001b[0;32m/usr/local/lib/python3.7/dist-packages/syft/generic/frameworks/hook/hook.py\u001b[0m in \u001b[0;36moverloaded_native_method\u001b[0;34m(self, *args, **kwargs)\u001b[0m\n\u001b[1;32m    207\u001b[0m                 \u001b[0;31m# Send the new command to the appropriate class and get the response\u001b[0m\u001b[0;34m\u001b[0m\u001b[0;34m\u001b[0m\u001b[0;34m\u001b[0m\u001b[0m\n\u001b[1;32m    208\u001b[0m                 \u001b[0mmethod\u001b[0m \u001b[0;34m=\u001b[0m \u001b[0mgetattr\u001b[0m\u001b[0;34m(\u001b[0m\u001b[0mnew_self\u001b[0m\u001b[0;34m,\u001b[0m \u001b[0mmethod_name\u001b[0m\u001b[0;34m)\u001b[0m\u001b[0;34m\u001b[0m\u001b[0;34m\u001b[0m\u001b[0m\n\u001b[0;32m--> 209\u001b[0;31m                 \u001b[0mresponse\u001b[0m \u001b[0;34m=\u001b[0m \u001b[0mmethod\u001b[0m\u001b[0;34m(\u001b[0m\u001b[0;34m*\u001b[0m\u001b[0mnew_args\u001b[0m\u001b[0;34m,\u001b[0m \u001b[0;34m**\u001b[0m\u001b[0mnew_kwargs\u001b[0m\u001b[0;34m)\u001b[0m\u001b[0;34m\u001b[0m\u001b[0;34m\u001b[0m\u001b[0m\n\u001b[0m\u001b[1;32m    210\u001b[0m \u001b[0;34m\u001b[0m\u001b[0m\n\u001b[1;32m    211\u001b[0m                 \u001b[0;31m# For inplace methods, just directly return self\u001b[0m\u001b[0;34m\u001b[0m\u001b[0;34m\u001b[0m\u001b[0;34m\u001b[0m\u001b[0m\n",
            "\u001b[0;32m/usr/local/lib/python3.7/dist-packages/syft/generic/frameworks/hook/pointers.py\u001b[0m in \u001b[0;36moverloaded_pointer_method\u001b[0;34m(self, *args, **kwargs)\u001b[0m\n\u001b[1;32m     82\u001b[0m \u001b[0;34m\u001b[0m\u001b[0m\n\u001b[1;32m     83\u001b[0m             \u001b[0;31m# Send the command\u001b[0m\u001b[0;34m\u001b[0m\u001b[0;34m\u001b[0m\u001b[0;34m\u001b[0m\u001b[0m\n\u001b[0;32m---> 84\u001b[0;31m             \u001b[0mresponse\u001b[0m \u001b[0;34m=\u001b[0m \u001b[0mowner\u001b[0m\u001b[0;34m.\u001b[0m\u001b[0msend_command\u001b[0m\u001b[0;34m(\u001b[0m\u001b[0mlocation\u001b[0m\u001b[0;34m,\u001b[0m \u001b[0mattr\u001b[0m\u001b[0;34m,\u001b[0m \u001b[0mself\u001b[0m\u001b[0;34m,\u001b[0m \u001b[0margs\u001b[0m\u001b[0;34m,\u001b[0m \u001b[0mkwargs\u001b[0m\u001b[0;34m)\u001b[0m\u001b[0;34m\u001b[0m\u001b[0;34m\u001b[0m\u001b[0m\n\u001b[0m\u001b[1;32m     85\u001b[0m \u001b[0;34m\u001b[0m\u001b[0m\n\u001b[1;32m     86\u001b[0m             \u001b[0;31m# For inplace methods, just directly return self\u001b[0m\u001b[0;34m\u001b[0m\u001b[0;34m\u001b[0m\u001b[0;34m\u001b[0m\u001b[0m\n",
            "\u001b[0;32m/usr/local/lib/python3.7/dist-packages/syft/workers/base.py\u001b[0m in \u001b[0;36msend_command\u001b[0;34m(self, recipient, cmd_name, target, args_, kwargs_, return_ids, return_value)\u001b[0m\n\u001b[1;32m    523\u001b[0m                 \u001b[0mcmd_name\u001b[0m\u001b[0;34m,\u001b[0m \u001b[0mtarget\u001b[0m\u001b[0;34m,\u001b[0m \u001b[0margs_\u001b[0m\u001b[0;34m,\u001b[0m \u001b[0mkwargs_\u001b[0m\u001b[0;34m,\u001b[0m \u001b[0mreturn_ids\u001b[0m\u001b[0;34m,\u001b[0m \u001b[0mreturn_value\u001b[0m\u001b[0;34m\u001b[0m\u001b[0;34m\u001b[0m\u001b[0m\n\u001b[1;32m    524\u001b[0m             )\n\u001b[0;32m--> 525\u001b[0;31m             \u001b[0mret_val\u001b[0m \u001b[0;34m=\u001b[0m \u001b[0mself\u001b[0m\u001b[0;34m.\u001b[0m\u001b[0msend_msg\u001b[0m\u001b[0;34m(\u001b[0m\u001b[0mmessage\u001b[0m\u001b[0;34m,\u001b[0m \u001b[0mlocation\u001b[0m\u001b[0;34m=\u001b[0m\u001b[0mrecipient\u001b[0m\u001b[0;34m)\u001b[0m\u001b[0;34m\u001b[0m\u001b[0;34m\u001b[0m\u001b[0m\n\u001b[0m\u001b[1;32m    526\u001b[0m         \u001b[0;32mexcept\u001b[0m \u001b[0mResponseSignatureError\u001b[0m \u001b[0;32mas\u001b[0m \u001b[0me\u001b[0m\u001b[0;34m:\u001b[0m\u001b[0;34m\u001b[0m\u001b[0;34m\u001b[0m\u001b[0m\n\u001b[1;32m    527\u001b[0m             \u001b[0mret_val\u001b[0m \u001b[0;34m=\u001b[0m \u001b[0;32mNone\u001b[0m\u001b[0;34m\u001b[0m\u001b[0;34m\u001b[0m\u001b[0m\n",
            "\u001b[0;32m/usr/local/lib/python3.7/dist-packages/syft/workers/base.py\u001b[0m in \u001b[0;36msend_msg\u001b[0;34m(self, message, location)\u001b[0m\n\u001b[1;32m    314\u001b[0m \u001b[0;34m\u001b[0m\u001b[0m\n\u001b[1;32m    315\u001b[0m         \u001b[0;31m# Step 2: send the message and wait for a response\u001b[0m\u001b[0;34m\u001b[0m\u001b[0;34m\u001b[0m\u001b[0;34m\u001b[0m\u001b[0m\n\u001b[0;32m--> 316\u001b[0;31m         \u001b[0mbin_response\u001b[0m \u001b[0;34m=\u001b[0m \u001b[0mself\u001b[0m\u001b[0;34m.\u001b[0m\u001b[0m_send_msg\u001b[0m\u001b[0;34m(\u001b[0m\u001b[0mbin_message\u001b[0m\u001b[0;34m,\u001b[0m \u001b[0mlocation\u001b[0m\u001b[0;34m)\u001b[0m\u001b[0;34m\u001b[0m\u001b[0;34m\u001b[0m\u001b[0m\n\u001b[0m\u001b[1;32m    317\u001b[0m \u001b[0;34m\u001b[0m\u001b[0m\n\u001b[1;32m    318\u001b[0m         \u001b[0;31m# Step 3: deserialize the response\u001b[0m\u001b[0;34m\u001b[0m\u001b[0;34m\u001b[0m\u001b[0;34m\u001b[0m\u001b[0m\n",
            "\u001b[0;32m/usr/local/lib/python3.7/dist-packages/syft/workers/virtual.py\u001b[0m in \u001b[0;36m_send_msg\u001b[0;34m(self, message, location)\u001b[0m\n\u001b[1;32m     10\u001b[0m         \u001b[0;34m\"\"\"send message to worker location\"\"\"\u001b[0m\u001b[0;34m\u001b[0m\u001b[0;34m\u001b[0m\u001b[0m\n\u001b[1;32m     11\u001b[0m \u001b[0;34m\u001b[0m\u001b[0m\n\u001b[0;32m---> 12\u001b[0;31m         \u001b[0;32mreturn\u001b[0m \u001b[0mlocation\u001b[0m\u001b[0;34m.\u001b[0m\u001b[0m_recv_msg\u001b[0m\u001b[0;34m(\u001b[0m\u001b[0mmessage\u001b[0m\u001b[0;34m)\u001b[0m\u001b[0;34m\u001b[0m\u001b[0;34m\u001b[0m\u001b[0m\n\u001b[0m\u001b[1;32m     13\u001b[0m \u001b[0;34m\u001b[0m\u001b[0m\n\u001b[1;32m     14\u001b[0m     \u001b[0;32mdef\u001b[0m \u001b[0m_recv_msg\u001b[0m\u001b[0;34m(\u001b[0m\u001b[0mself\u001b[0m\u001b[0;34m,\u001b[0m \u001b[0mmessage\u001b[0m\u001b[0;34m:\u001b[0m \u001b[0mbin\u001b[0m\u001b[0;34m)\u001b[0m \u001b[0;34m->\u001b[0m \u001b[0mbin\u001b[0m\u001b[0;34m:\u001b[0m\u001b[0;34m\u001b[0m\u001b[0;34m\u001b[0m\u001b[0m\n",
            "\u001b[0;32m/usr/local/lib/python3.7/dist-packages/syft/workers/virtual.py\u001b[0m in \u001b[0;36m_recv_msg\u001b[0;34m(self, message)\u001b[0m\n\u001b[1;32m     20\u001b[0m             \u001b[0msleep\u001b[0m\u001b[0;34m(\u001b[0m\u001b[0mself\u001b[0m\u001b[0;34m.\u001b[0m\u001b[0mmessage_pending_time\u001b[0m\u001b[0;34m)\u001b[0m\u001b[0;34m\u001b[0m\u001b[0;34m\u001b[0m\u001b[0m\n\u001b[1;32m     21\u001b[0m \u001b[0;34m\u001b[0m\u001b[0m\n\u001b[0;32m---> 22\u001b[0;31m         \u001b[0;32mreturn\u001b[0m \u001b[0mself\u001b[0m\u001b[0;34m.\u001b[0m\u001b[0mrecv_msg\u001b[0m\u001b[0;34m(\u001b[0m\u001b[0mmessage\u001b[0m\u001b[0;34m)\u001b[0m\u001b[0;34m\u001b[0m\u001b[0;34m\u001b[0m\u001b[0m\n\u001b[0m\u001b[1;32m     23\u001b[0m \u001b[0;34m\u001b[0m\u001b[0m\n\u001b[1;32m     24\u001b[0m     \u001b[0;31m# For backwards compatibility with Udacity course\u001b[0m\u001b[0;34m\u001b[0m\u001b[0;34m\u001b[0m\u001b[0;34m\u001b[0m\u001b[0m\n",
            "\u001b[0;32m/usr/local/lib/python3.7/dist-packages/syft/workers/base.py\u001b[0m in \u001b[0;36mrecv_msg\u001b[0;34m(self, bin_message)\u001b[0m\n\u001b[1;32m    354\u001b[0m         \u001b[0;32mfor\u001b[0m \u001b[0mhandler\u001b[0m \u001b[0;32min\u001b[0m \u001b[0mself\u001b[0m\u001b[0;34m.\u001b[0m\u001b[0mmessage_handlers\u001b[0m\u001b[0;34m:\u001b[0m\u001b[0;34m\u001b[0m\u001b[0;34m\u001b[0m\u001b[0m\n\u001b[1;32m    355\u001b[0m             \u001b[0;32mif\u001b[0m \u001b[0mhandler\u001b[0m\u001b[0;34m.\u001b[0m\u001b[0msupports\u001b[0m\u001b[0;34m(\u001b[0m\u001b[0mmsg\u001b[0m\u001b[0;34m)\u001b[0m\u001b[0;34m:\u001b[0m\u001b[0;34m\u001b[0m\u001b[0;34m\u001b[0m\u001b[0m\n\u001b[0;32m--> 356\u001b[0;31m                 \u001b[0mresponse\u001b[0m \u001b[0;34m=\u001b[0m \u001b[0mhandler\u001b[0m\u001b[0;34m.\u001b[0m\u001b[0mhandle\u001b[0m\u001b[0;34m(\u001b[0m\u001b[0mmsg\u001b[0m\u001b[0;34m)\u001b[0m\u001b[0;34m\u001b[0m\u001b[0;34m\u001b[0m\u001b[0m\n\u001b[0m\u001b[1;32m    357\u001b[0m                 \u001b[0;32mbreak\u001b[0m\u001b[0;34m\u001b[0m\u001b[0;34m\u001b[0m\u001b[0m\n\u001b[1;32m    358\u001b[0m         \u001b[0;31m# TODO(karlhigley): Raise an exception if no handler is found\u001b[0m\u001b[0;34m\u001b[0m\u001b[0;34m\u001b[0m\u001b[0;34m\u001b[0m\u001b[0m\n",
            "\u001b[0;32m/usr/local/lib/python3.7/dist-packages/syft/generic/abstract/message_handler.py\u001b[0m in \u001b[0;36mhandle\u001b[0;34m(self, msg)\u001b[0m\n\u001b[1;32m     18\u001b[0m \u001b[0;34m\u001b[0m\u001b[0m\n\u001b[1;32m     19\u001b[0m     \u001b[0;32mdef\u001b[0m \u001b[0mhandle\u001b[0m\u001b[0;34m(\u001b[0m\u001b[0mself\u001b[0m\u001b[0;34m,\u001b[0m \u001b[0mmsg\u001b[0m\u001b[0;34m)\u001b[0m\u001b[0;34m:\u001b[0m\u001b[0;34m\u001b[0m\u001b[0;34m\u001b[0m\u001b[0m\n\u001b[0;32m---> 20\u001b[0;31m         \u001b[0;32mreturn\u001b[0m \u001b[0mself\u001b[0m\u001b[0;34m.\u001b[0m\u001b[0mrouting_table\u001b[0m\u001b[0;34m[\u001b[0m\u001b[0mtype\u001b[0m\u001b[0;34m(\u001b[0m\u001b[0mmsg\u001b[0m\u001b[0;34m)\u001b[0m\u001b[0;34m]\u001b[0m\u001b[0;34m(\u001b[0m\u001b[0mmsg\u001b[0m\u001b[0;34m)\u001b[0m\u001b[0;34m\u001b[0m\u001b[0;34m\u001b[0m\u001b[0m\n\u001b[0m",
            "\u001b[0;32m/usr/local/lib/python3.7/dist-packages/syft/workers/message_handler.py\u001b[0m in \u001b[0;36mexecute_tensor_command\u001b[0;34m(self, cmd)\u001b[0m\n\u001b[1;32m     53\u001b[0m     \u001b[0;32mdef\u001b[0m \u001b[0mexecute_tensor_command\u001b[0m\u001b[0;34m(\u001b[0m\u001b[0mself\u001b[0m\u001b[0;34m,\u001b[0m \u001b[0mcmd\u001b[0m\u001b[0;34m:\u001b[0m \u001b[0mTensorCommandMessage\u001b[0m\u001b[0;34m)\u001b[0m \u001b[0;34m->\u001b[0m \u001b[0mPointerTensor\u001b[0m\u001b[0;34m:\u001b[0m\u001b[0;34m\u001b[0m\u001b[0;34m\u001b[0m\u001b[0m\n\u001b[1;32m     54\u001b[0m         \u001b[0;32mif\u001b[0m \u001b[0misinstance\u001b[0m\u001b[0;34m(\u001b[0m\u001b[0mcmd\u001b[0m\u001b[0;34m.\u001b[0m\u001b[0maction\u001b[0m\u001b[0;34m,\u001b[0m \u001b[0mComputationAction\u001b[0m\u001b[0;34m)\u001b[0m\u001b[0;34m:\u001b[0m\u001b[0;34m\u001b[0m\u001b[0;34m\u001b[0m\u001b[0m\n\u001b[0;32m---> 55\u001b[0;31m             \u001b[0;32mreturn\u001b[0m \u001b[0mself\u001b[0m\u001b[0;34m.\u001b[0m\u001b[0mexecute_computation_action\u001b[0m\u001b[0;34m(\u001b[0m\u001b[0mcmd\u001b[0m\u001b[0;34m.\u001b[0m\u001b[0maction\u001b[0m\u001b[0;34m)\u001b[0m\u001b[0;34m\u001b[0m\u001b[0;34m\u001b[0m\u001b[0m\n\u001b[0m\u001b[1;32m     56\u001b[0m         \u001b[0;32melse\u001b[0m\u001b[0;34m:\u001b[0m\u001b[0;34m\u001b[0m\u001b[0;34m\u001b[0m\u001b[0m\n\u001b[1;32m     57\u001b[0m             \u001b[0;32mreturn\u001b[0m \u001b[0mself\u001b[0m\u001b[0;34m.\u001b[0m\u001b[0mexecute_communication_action\u001b[0m\u001b[0;34m(\u001b[0m\u001b[0mcmd\u001b[0m\u001b[0;34m.\u001b[0m\u001b[0maction\u001b[0m\u001b[0;34m)\u001b[0m\u001b[0;34m\u001b[0m\u001b[0;34m\u001b[0m\u001b[0m\n",
            "\u001b[0;32m/usr/local/lib/python3.7/dist-packages/syft/workers/message_handler.py\u001b[0m in \u001b[0;36mexecute_computation_action\u001b[0;34m(self, action)\u001b[0m\n\u001b[1;32m     95\u001b[0m             \u001b[0;32melse\u001b[0m\u001b[0;34m:\u001b[0m\u001b[0;34m\u001b[0m\u001b[0;34m\u001b[0m\u001b[0m\n\u001b[1;32m     96\u001b[0m                 \u001b[0;32mtry\u001b[0m\u001b[0;34m:\u001b[0m\u001b[0;34m\u001b[0m\u001b[0;34m\u001b[0m\u001b[0m\n\u001b[0;32m---> 97\u001b[0;31m                     \u001b[0mresponse\u001b[0m \u001b[0;34m=\u001b[0m \u001b[0mgetattr\u001b[0m\u001b[0;34m(\u001b[0m\u001b[0m_self\u001b[0m\u001b[0;34m,\u001b[0m \u001b[0mop_name\u001b[0m\u001b[0;34m)\u001b[0m\u001b[0;34m(\u001b[0m\u001b[0;34m*\u001b[0m\u001b[0margs_\u001b[0m\u001b[0;34m,\u001b[0m \u001b[0;34m**\u001b[0m\u001b[0mkwargs_\u001b[0m\u001b[0;34m)\u001b[0m\u001b[0;34m\u001b[0m\u001b[0;34m\u001b[0m\u001b[0m\n\u001b[0m\u001b[1;32m     98\u001b[0m                 \u001b[0;32mexcept\u001b[0m \u001b[0mTypeError\u001b[0m\u001b[0;34m:\u001b[0m\u001b[0;34m\u001b[0m\u001b[0;34m\u001b[0m\u001b[0m\n\u001b[1;32m     99\u001b[0m                     \u001b[0;31m# TODO Andrew thinks this is gross, please fix. Instead need to\u001b[0m\u001b[0;34m\u001b[0m\u001b[0;34m\u001b[0m\u001b[0;34m\u001b[0m\u001b[0m\n",
            "\u001b[0;32m/usr/local/lib/python3.7/dist-packages/syft/generic/frameworks/hook/hook.py\u001b[0m in \u001b[0;36moverloaded_native_method\u001b[0;34m(self, *args, **kwargs)\u001b[0m\n\u001b[1;32m    167\u001b[0m                 \u001b[0;32mexcept\u001b[0m \u001b[0mBaseException\u001b[0m \u001b[0;32mas\u001b[0m \u001b[0me\u001b[0m\u001b[0;34m:\u001b[0m\u001b[0;34m\u001b[0m\u001b[0;34m\u001b[0m\u001b[0m\n\u001b[1;32m    168\u001b[0m                     \u001b[0;31m# we can make some errors more descriptive with this method\u001b[0m\u001b[0;34m\u001b[0m\u001b[0;34m\u001b[0m\u001b[0;34m\u001b[0m\u001b[0m\n\u001b[0;32m--> 169\u001b[0;31m                     \u001b[0;32mraise\u001b[0m \u001b[0mroute_method_exception\u001b[0m\u001b[0;34m(\u001b[0m\u001b[0me\u001b[0m\u001b[0;34m,\u001b[0m \u001b[0mself\u001b[0m\u001b[0;34m,\u001b[0m \u001b[0margs\u001b[0m\u001b[0;34m,\u001b[0m \u001b[0mkwargs\u001b[0m\u001b[0;34m)\u001b[0m\u001b[0;34m\u001b[0m\u001b[0;34m\u001b[0m\u001b[0m\n\u001b[0m\u001b[1;32m    170\u001b[0m \u001b[0;34m\u001b[0m\u001b[0m\n\u001b[1;32m    171\u001b[0m             \u001b[0;32melse\u001b[0m\u001b[0;34m:\u001b[0m  \u001b[0;31m# means that there is a wrapper to remove\u001b[0m\u001b[0;34m\u001b[0m\u001b[0;34m\u001b[0m\u001b[0m\n",
            "\u001b[0;32m/usr/local/lib/python3.7/dist-packages/syft/generic/frameworks/hook/hook.py\u001b[0m in \u001b[0;36moverloaded_native_method\u001b[0;34m(self, *args, **kwargs)\u001b[0m\n\u001b[1;32m    163\u001b[0m \u001b[0;34m\u001b[0m\u001b[0m\n\u001b[1;32m    164\u001b[0m                 \u001b[0;32mtry\u001b[0m\u001b[0;34m:\u001b[0m\u001b[0;34m\u001b[0m\u001b[0;34m\u001b[0m\u001b[0m\n\u001b[0;32m--> 165\u001b[0;31m                     \u001b[0mresponse\u001b[0m \u001b[0;34m=\u001b[0m \u001b[0mmethod\u001b[0m\u001b[0;34m(\u001b[0m\u001b[0;34m*\u001b[0m\u001b[0margs\u001b[0m\u001b[0;34m,\u001b[0m \u001b[0;34m**\u001b[0m\u001b[0mkwargs\u001b[0m\u001b[0;34m)\u001b[0m\u001b[0;34m\u001b[0m\u001b[0;34m\u001b[0m\u001b[0m\n\u001b[0m\u001b[1;32m    166\u001b[0m \u001b[0;34m\u001b[0m\u001b[0m\n\u001b[1;32m    167\u001b[0m                 \u001b[0;32mexcept\u001b[0m \u001b[0mBaseException\u001b[0m \u001b[0;32mas\u001b[0m \u001b[0me\u001b[0m\u001b[0;34m:\u001b[0m\u001b[0;34m\u001b[0m\u001b[0;34m\u001b[0m\u001b[0m\n",
            "\u001b[0;32m/usr/local/lib/python3.7/dist-packages/torch/tensor.py\u001b[0m in \u001b[0;36mbackward\u001b[0;34m(self, gradient, retain_graph, create_graph)\u001b[0m\n\u001b[1;32m    193\u001b[0m                 \u001b[0mproducts\u001b[0m\u001b[0;34m.\u001b[0m \u001b[0mDefaults\u001b[0m \u001b[0mto\u001b[0m\u001b[0;31m \u001b[0m\u001b[0;31m`\u001b[0m\u001b[0;31m`\u001b[0m\u001b[0;32mFalse\u001b[0m\u001b[0;31m`\u001b[0m\u001b[0;31m`\u001b[0m\u001b[0;34m.\u001b[0m\u001b[0;34m\u001b[0m\u001b[0;34m\u001b[0m\u001b[0m\n\u001b[1;32m    194\u001b[0m         \"\"\"\n\u001b[0;32m--> 195\u001b[0;31m         \u001b[0mtorch\u001b[0m\u001b[0;34m.\u001b[0m\u001b[0mautograd\u001b[0m\u001b[0;34m.\u001b[0m\u001b[0mbackward\u001b[0m\u001b[0;34m(\u001b[0m\u001b[0mself\u001b[0m\u001b[0;34m,\u001b[0m \u001b[0mgradient\u001b[0m\u001b[0;34m,\u001b[0m \u001b[0mretain_graph\u001b[0m\u001b[0;34m,\u001b[0m \u001b[0mcreate_graph\u001b[0m\u001b[0;34m)\u001b[0m\u001b[0;34m\u001b[0m\u001b[0;34m\u001b[0m\u001b[0m\n\u001b[0m\u001b[1;32m    196\u001b[0m \u001b[0;34m\u001b[0m\u001b[0m\n\u001b[1;32m    197\u001b[0m     \u001b[0;32mdef\u001b[0m \u001b[0mregister_hook\u001b[0m\u001b[0;34m(\u001b[0m\u001b[0mself\u001b[0m\u001b[0;34m,\u001b[0m \u001b[0mhook\u001b[0m\u001b[0;34m)\u001b[0m\u001b[0;34m:\u001b[0m\u001b[0;34m\u001b[0m\u001b[0;34m\u001b[0m\u001b[0m\n",
            "\u001b[0;32m/usr/local/lib/python3.7/dist-packages/torch/autograd/__init__.py\u001b[0m in \u001b[0;36mbackward\u001b[0;34m(tensors, grad_tensors, retain_graph, create_graph, grad_variables)\u001b[0m\n\u001b[1;32m     97\u001b[0m     Variable._execution_engine.run_backward(\n\u001b[1;32m     98\u001b[0m         \u001b[0mtensors\u001b[0m\u001b[0;34m,\u001b[0m \u001b[0mgrad_tensors\u001b[0m\u001b[0;34m,\u001b[0m \u001b[0mretain_graph\u001b[0m\u001b[0;34m,\u001b[0m \u001b[0mcreate_graph\u001b[0m\u001b[0;34m,\u001b[0m\u001b[0;34m\u001b[0m\u001b[0;34m\u001b[0m\u001b[0m\n\u001b[0;32m---> 99\u001b[0;31m         allow_unreachable=True)  # allow_unreachable flag\n\u001b[0m\u001b[1;32m    100\u001b[0m \u001b[0;34m\u001b[0m\u001b[0m\n\u001b[1;32m    101\u001b[0m \u001b[0;34m\u001b[0m\u001b[0m\n",
            "\u001b[0;31mKeyboardInterrupt\u001b[0m: "
          ]
        }
      ]
    },
    {
      "cell_type": "markdown",
      "source": [
        "## Conclusion"
      ],
      "metadata": {
        "id": "75lvGQNjGCRG"
      }
    },
    {
      "cell_type": "markdown",
      "source": [
        "Using the exact same code as above, I was able to get accuracy of 98% which is quite good.\n",
        "\n",
        "We were able to do all the training without even seeing the data present at those two remote locations and also without risking their privacy. So now both the schools can use this model to classify handwritten digits and everyone is happy.\n",
        "\n",
        "That sums up the federated learning part."
      ],
      "metadata": {
        "id": "k6cQhbFWGGI2"
      }
    },
    {
      "cell_type": "markdown",
      "source": [
        "If you made it this far, pat yourself on the back. I know that’s all quite a lot to take. So I will summarise everything we did for you guys.\n",
        "\n",
        "- We learned the importance of federated learning, how is it different from the normal centralised machine learning approach.\n",
        "- We learned all the basic details about PySyt’s API including working with tensors present on remote location using Pointer Tensors. We also saw that we can do normal PyTorch Tensor stuff using Pointer Tensor as well.\n",
        "- Then we simulated a real life scenario where we created two imaginary schools that had the data with them and we used federated learning to combine the power of their data to create an effective model.\n",
        "- We trained a model and hardly had to change the official PyTorch example on MNIST to a real Federated Learning scenario.\n",
        "\n",
        "A thing to note is that this is a very basic federated learning scenario. There a lot of flaws still in this setup for example:\n",
        "\n",
        "- We can learn information about the data present at remote location by looking at the change in the gradients of our model. A common way to remedy this is to use a Secure Aggregator that receives models from all the remote locations and takes their mean and only then sends back the aggregated model to us.\n",
        "- Since we spent a lot of time building our model, we don’t want anyone at the remote location to see it. Right now, when we send our model to remote location, it is completely exposed.\n",
        "- Right now the training is happening linearly i.e one worker after the another, this is causing bottlenecks in performance. What we want is to train this model in parallel across all workers since the training of the model on each worker is independent of each other.\n",
        "- We could use differential privacy, where we inject some noise in the data at the remote location thereby making the training more secure."
      ],
      "metadata": {
        "id": "M4abCE63MMrd"
      }
    }
  ]
}