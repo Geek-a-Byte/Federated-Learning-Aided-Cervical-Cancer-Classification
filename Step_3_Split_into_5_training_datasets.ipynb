{
  "nbformat": 4,
  "nbformat_minor": 0,
  "metadata": {
    "colab": {
      "provenance": [],
      "authorship_tag": "ABX9TyNCvuLnNt1/6hKEKxH8GLMK",
      "include_colab_link": true
    },
    "kernelspec": {
      "name": "python3",
      "display_name": "Python 3"
    },
    "language_info": {
      "name": "python"
    }
  },
  "cells": [
    {
      "cell_type": "markdown",
      "metadata": {
        "id": "view-in-github",
        "colab_type": "text"
      },
      "source": [
        "<a href=\"https://colab.research.google.com/github/Geek-a-Byte/thesis/blob/main/Step_3_Split_into_5_training_datasets.ipynb\" target=\"_parent\"><img src=\"https://colab.research.google.com/assets/colab-badge.svg\" alt=\"Open In Colab\"/></a>"
      ]
    },
    {
      "cell_type": "code",
      "source": [
        "import numpy as np\n",
        "import random\n",
        "import cv2\n",
        "import os\n",
        "os.environ['TF_CPP_MIN_LOG_LEVEL'] = '2' \n",
        "from imutils import paths\n",
        "from sklearn.model_selection import train_test_split\n",
        "from sklearn.preprocessing import LabelBinarizer\n",
        "from sklearn.model_selection import train_test_split\n",
        "from sklearn.utils import shuffle\n",
        "from sklearn.metrics import accuracy_score"
      ],
      "metadata": {
        "id": "IFCLvmBBkQeh"
      },
      "execution_count": null,
      "outputs": []
    },
    {
      "cell_type": "code",
      "execution_count": null,
      "metadata": {
        "colab": {
          "base_uri": "https://localhost:8080/"
        },
        "id": "u9JZGW5BjdYy",
        "outputId": "67b5b3f5-817a-42f8-dc21-03db763ad7e9"
      },
      "outputs": [
        {
          "output_type": "stream",
          "name": "stdout",
          "text": [
            "Mounted at /content/drive\n"
          ]
        }
      ],
      "source": [
        "from google.colab import drive\n",
        "drive.mount('/content/drive')"
      ]
    },
    {
      "cell_type": "code",
      "source": [
        "!unzip \"/content/drive/MyDrive/CervicalCancerTrainDataset.zip\" -d \"./CervicalCancerTrainingDataset/\""
      ],
      "metadata": {
        "id": "AXeBtz_Njokq"
      },
      "execution_count": null,
      "outputs": []
    },
    {
      "cell_type": "code",
      "source": [
        "def load(paths, verbose=-1):\n",
        "    '''expects images for each class in seperate dir'''\n",
        "    data = list()\n",
        "    labels = list()\n",
        "    # loop over the input images\n",
        "    for (i, imgpath) in enumerate(paths):\n",
        "        # load the image and extract the class labels\n",
        "        im_gray = cv2.imread(imgpath, cv2.IMREAD_GRAYSCALE)\n",
        "        image = np.array(im_gray).flatten()\n",
        "        label = imgpath.split(os.path.sep)[-2] # Metaplastic, Parabasal, Koilocytotic, Superficial-Intermediate, Dyskeratotic\n",
        "        # scale the image to [0, 1] and add to list\n",
        "        data.append(image/255)\n",
        "        labels.append(label)\n",
        "        # show an update every `verbose` images\n",
        "        if verbose > 0 and i > 0 and (i + 1) % verbose == 0:\n",
        "            print(label);\n",
        "            print(\"[INFO] processed {}/{}\".format(i + 1, len(paths)))\n",
        "    # return a tuple of the data and labels\n",
        "    return data, labels"
      ],
      "metadata": {
        "id": "qnJk8PuAjulB"
      },
      "execution_count": null,
      "outputs": []
    },
    {
      "cell_type": "code",
      "source": [
        "#declear path to your data folder\n",
        "img_path = '/content/CervicalCancerTrainingDataset'\n",
        "\n",
        "#get the path list using the path object\n",
        "image_paths = list(paths.list_images(img_path))\n",
        "\n",
        "#apply our function\n",
        "image_list, label_list = load(image_paths, verbose=10000)"
      ],
      "metadata": {
        "id": "b6KKBqkyjyig"
      },
      "execution_count": null,
      "outputs": []
    },
    {
      "cell_type": "code",
      "source": [
        "a,b,c = np.random.randint(0,10,[3,4])\n",
        "\n",
        "print(a)\n",
        "print(b)\n",
        "print(c)\n"
      ],
      "metadata": {
        "colab": {
          "base_uri": "https://localhost:8080/"
        },
        "id": "qYCNHOuTtOXL",
        "outputId": "565df129-2e20-4d2a-9512-22d05f270e92"
      },
      "execution_count": null,
      "outputs": [
        {
          "output_type": "stream",
          "name": "stdout",
          "text": [
            "[4 5 3 2]\n",
            "[9 3 8 9]\n",
            "[4 5 9 2]\n"
          ]
        }
      ]
    },
    {
      "cell_type": "code",
      "source": [
        "# Function for Creating Train / Validation / Test folders (One time use Only)\n",
        "import shutil\n",
        "def TrainSplitting(root_dir, classes_dir, main = \"\", val_ratio = 0.15, test_ratio = 0.15):\n",
        "    for cls in classes_dir:\n",
        "        # Creating Split Folders\n",
        "        os.makedirs('Client_1/' + cls)\n",
        "        os.makedirs('Client_2/' + cls)\n",
        "        os.makedirs('Client_3/' + cls)\n",
        "        os.makedirs('Client_4/' + cls)\n",
        "        os.makedirs('Client_5/' + cls)\n",
        "        \n",
        "        # Folder to copy images from\n",
        "        src = os.path.join(root_dir, cls, main);\n",
        "\n",
        "        # Spliting the Files in the Given ratio\n",
        "        allFileNames = os.listdir(src)\n",
        "        np.random.shuffle(allFileNames)\n",
        "\n",
        "        div=0.2\n",
        "        div_data_1=int(len(allFileNames)*(1-(div*4)));\n",
        "        div_data_2=int(len(allFileNames)*(1-(div*3)));\n",
        "        div_data_3=int(len(allFileNames)*(1-(div*2)));\n",
        "        div_data_4=int(len(allFileNames)*(1-(div)));\n",
        "\n",
        "        # print(div_data_1)\n",
        "        # print(div_data_2)\n",
        "        # print(div_data_3)\n",
        "        # print(div_data_4)\n",
        "\n",
        "        client1_FileNames, client2_FileNames, client3_FileNames, client4_FileNames, client5_FileNames = np.split(np.array(allFileNames), [div_data_1,div_data_2,div_data_3,div_data_4])\n",
        "\n",
        "        client1_FileNames = [src+'/'+ name for name in client1_FileNames.tolist()]\n",
        "        client2_FileNames = [src+'/' + name for name in client2_FileNames.tolist()]\n",
        "        client3_FileNames = [src+'/' + name for name in client3_FileNames.tolist()]\n",
        "        client4_FileNames = [src+'/' + name for name in client4_FileNames.tolist()]\n",
        "        client5_FileNames = [src+'/' + name for name in client5_FileNames.tolist()]\n",
        "\n",
        "        # Printing the Split Details\n",
        "        print(cls,':')\n",
        "        print('Total images: ', len(allFileNames))\n",
        "        print('Client_1: ', len(client1_FileNames))\n",
        "        print('Client_2: ', len(client2_FileNames))\n",
        "        print('Client_3: ', len(client3_FileNames))\n",
        "        print('Client_4: ', len(client4_FileNames))\n",
        "        print('Client_5: ', len(client5_FileNames))\n",
        "\n",
        "        # Copy-pasting images\n",
        "        for name in client1_FileNames:\n",
        "            shutil.copy(name, 'Client_1/' + cls)\n",
        "\n",
        "        for name in client2_FileNames:\n",
        "            shutil.copy(name, 'Client_2/' + cls)\n",
        "\n",
        "        for name in client3_FileNames:\n",
        "            shutil.copy(name, 'Client_3/' + cls)\n",
        "\n",
        "        for name in client4_FileNames:\n",
        "            shutil.copy(name, 'Client_4/' + cls)\n",
        "\n",
        "        for name in client5_FileNames:\n",
        "            shutil.copy(name, 'Client_5/' + cls)\n",
        "        print();\n",
        "        \n",
        "\n",
        "# Preforming Train / Validation / Test Split\n",
        "root_dir = \"/content/CervicalCancerTrainingDataset/CervicalCancerTrainDataset\"               # Dataset Root Folder\n",
        "classes_dir = [\"Dyskeratotic\", \"Koilocytotic\", \"Metaplastic\", \"Parabasal\", \"Superficial-Intermediate\"]   # Classes\n",
        "TrainSplitting(root_dir, classes_dir);"
      ],
      "metadata": {
        "colab": {
          "base_uri": "https://localhost:8080/"
        },
        "id": "5RXIE532nGCl",
        "outputId": "285b9c70-7990-4b97-c5b3-8e6ddbc61350"
      },
      "execution_count": null,
      "outputs": [
        {
          "output_type": "stream",
          "name": "stdout",
          "text": [
            "Dyskeratotic :\n",
            "Total images:  813\n",
            "Client_1:  162\n",
            "Client_2:  163\n",
            "Client_3:  162\n",
            "Client_4:  163\n",
            "Client_5:  163\n",
            "\n",
            "Koilocytotic :\n",
            "Total images:  825\n",
            "Client_1:  164\n",
            "Client_2:  165\n",
            "Client_3:  166\n",
            "Client_4:  165\n",
            "Client_5:  165\n",
            "\n",
            "Metaplastic :\n",
            "Total images:  793\n",
            "Client_1:  158\n",
            "Client_2:  159\n",
            "Client_3:  158\n",
            "Client_4:  159\n",
            "Client_5:  159\n",
            "\n",
            "Parabasal :\n",
            "Total images:  787\n",
            "Client_1:  157\n",
            "Client_2:  157\n",
            "Client_3:  158\n",
            "Client_4:  157\n",
            "Client_5:  158\n",
            "\n",
            "Superficial-Intermediate :\n",
            "Total images:  831\n",
            "Client_1:  166\n",
            "Client_2:  166\n",
            "Client_3:  166\n",
            "Client_4:  166\n",
            "Client_5:  167\n",
            "\n"
          ]
        }
      ]
    },
    {
      "cell_type": "code",
      "source": [
        "#@title **Utility to zip and download a directory**\n",
        "#@markdown Use this method to zip and download a directory. For ex. a TB logs \n",
        "#@markdown directory or a checkpoint(s) directory.\n",
        "\n",
        "from google.colab import files\n",
        "import os\n",
        "\n",
        "dir_to_zip = '/content/Client_5' #@param {type: \"string\"}\n",
        "output_filename = 'Client5_train.zip' #@param {type: \"string\"}\n",
        "delete_dir_after_download = \"No\"  #@param ['Yes', 'No']\n",
        "\n",
        "os.system( \"zip -r {} {}\".format( output_filename , dir_to_zip ) )\n",
        "\n",
        "if delete_dir_after_download == \"Yes\":\n",
        "    os.system( \"rm -r {}\".format( dir_to_zip ) )\n",
        "\n",
        "files.download( output_filename )"
      ],
      "metadata": {
        "colab": {
          "base_uri": "https://localhost:8080/",
          "height": 17
        },
        "id": "rPYIf6UFyQDY",
        "outputId": "c66df56e-7d08-4c2d-c415-330a1edd5a36"
      },
      "execution_count": null,
      "outputs": [
        {
          "output_type": "display_data",
          "data": {
            "text/plain": [
              "<IPython.core.display.Javascript object>"
            ],
            "application/javascript": [
              "\n",
              "    async function download(id, filename, size) {\n",
              "      if (!google.colab.kernel.accessAllowed) {\n",
              "        return;\n",
              "      }\n",
              "      const div = document.createElement('div');\n",
              "      const label = document.createElement('label');\n",
              "      label.textContent = `Downloading \"${filename}\": `;\n",
              "      div.appendChild(label);\n",
              "      const progress = document.createElement('progress');\n",
              "      progress.max = size;\n",
              "      div.appendChild(progress);\n",
              "      document.body.appendChild(div);\n",
              "\n",
              "      const buffers = [];\n",
              "      let downloaded = 0;\n",
              "\n",
              "      const channel = await google.colab.kernel.comms.open(id);\n",
              "      // Send a message to notify the kernel that we're ready.\n",
              "      channel.send({})\n",
              "\n",
              "      for await (const message of channel.messages) {\n",
              "        // Send a message to notify the kernel that we're ready.\n",
              "        channel.send({})\n",
              "        if (message.buffers) {\n",
              "          for (const buffer of message.buffers) {\n",
              "            buffers.push(buffer);\n",
              "            downloaded += buffer.byteLength;\n",
              "            progress.value = downloaded;\n",
              "          }\n",
              "        }\n",
              "      }\n",
              "      const blob = new Blob(buffers, {type: 'application/binary'});\n",
              "      const a = document.createElement('a');\n",
              "      a.href = window.URL.createObjectURL(blob);\n",
              "      a.download = filename;\n",
              "      div.appendChild(a);\n",
              "      a.click();\n",
              "      div.remove();\n",
              "    }\n",
              "  "
            ]
          },
          "metadata": {}
        },
        {
          "output_type": "display_data",
          "data": {
            "text/plain": [
              "<IPython.core.display.Javascript object>"
            ],
            "application/javascript": [
              "download(\"download_3729f783-13e6-4c90-a3ee-13ddbfb1314e\", \"Client5_train.zip\", 2045958)"
            ]
          },
          "metadata": {}
        }
      ]
    }
  ]
}