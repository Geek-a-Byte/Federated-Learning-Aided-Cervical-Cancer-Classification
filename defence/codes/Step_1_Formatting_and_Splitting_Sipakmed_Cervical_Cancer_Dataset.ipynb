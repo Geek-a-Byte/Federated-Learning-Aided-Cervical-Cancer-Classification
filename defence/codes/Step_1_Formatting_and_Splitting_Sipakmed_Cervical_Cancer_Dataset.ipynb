{
  "nbformat": 4,
  "nbformat_minor": 0,
  "metadata": {
    "colab": {
      "provenance": []
    },
    "kernelspec": {
      "name": "python3",
      "display_name": "Python 3"
    },
    "language_info": {
      "name": "python"
    }
  },
  "cells": [
    {
      "cell_type": "code",
      "source": [
        "from google.colab import drive\n",
        "drive.mount('/content/drive')"
      ],
      "metadata": {
        "colab": {
          "base_uri": "https://localhost:8080/"
        },
        "id": "pbLaWuS7sztd",
        "outputId": "eb27c537-88fa-41db-96cd-362050e9ac05"
      },
      "execution_count": null,
      "outputs": [
        {
          "output_type": "stream",
          "name": "stdout",
          "text": [
            "Mounted at /content/drive\n"
          ]
        }
      ]
    },
    {
      "cell_type": "markdown",
      "source": [
        "# **Loading and Formatting the dataset**"
      ],
      "metadata": {
        "id": "JlpG7FfjxwQz"
      }
    },
    {
      "cell_type": "code",
      "source": [
        "!unzip \"/content/drive/MyDrive/Cervical Cancer.zip\" -d \"./CervicalCancerDataset/\""
      ],
      "metadata": {
        "id": "t6BpYjTGtFJ0"
      },
      "execution_count": null,
      "outputs": []
    },
    {
      "cell_type": "code",
      "source": [
        "import os\n",
        "import cv2\n",
        "import numpy as np\n",
        "import shutil"
      ],
      "metadata": {
        "id": "CStf73S7tY4T"
      },
      "execution_count": null,
      "outputs": []
    },
    {
      "cell_type": "code",
      "source": [
        "# Function for Formatting Dataset\n",
        "def FormatDataset(dataset_src, dataset_dest, classes):\n",
        "    # Making a Copy of Dataset\n",
        "    new_cropped_dest = [os.path.join(dataset_dest, cls, 'CROPPED') for cls in classes];\n",
        "    new_complete_dest = [os.path.join(dataset_dest, cls, 'COMPLETE') for cls in classes];\n",
        "    cropped_src = [ dataset_src + \"/im_\" + cls + \"/im_\" + cls + \"/CROPPED\" for cls in classes ];\n",
        "    complete_src = [ dataset_src + \"/im_\" + cls + \"/im_\" + cls for cls in classes ];\n",
        "    for (dest1, dest2) in zip(new_cropped_dest, new_complete_dest):\n",
        "        os.makedirs(dest1);\n",
        "        os.makedirs(dest2);\n",
        "    # Formating Cropped Images\n",
        "    for (src,new_dest) in zip(cropped_src, new_cropped_dest):\n",
        "        for file in os.listdir(src):\n",
        "            filename, file_ext = os.path.splitext(file);\n",
        "            if file_ext == '.bmp':\n",
        "                img_des = os.path.join(new_dest, filename + '.jpg');\n",
        "                img = cv2.imread(os.path.join(src, file));\n",
        "                img = cv2.resize(img, (64, 64));\n",
        "                img = cv2.copyMakeBorder(img, 1, 1, 1, 1, cv2.BORDER_CONSTANT, value=0);\n",
        "                img = cv2.blur(img, (2, 2));\n",
        "                cv2.imwrite(img_des ,img);\n",
        "    # Formatting Complete Images\n",
        "    for (src,new_dest) in zip(complete_src, new_complete_dest):\n",
        "        for file in os.listdir(src):\n",
        "            filename, file_ext = os.path.splitext(file);\n",
        "            if file_ext == '.bmp':\n",
        "                img_des = os.path.join(new_dest, filename + '.jpg');\n",
        "                img = cv2.imread(os.path.join(src, file));\n",
        "                img = cv2.resize(img, (256, 256));\n",
        "                img = cv2.copyMakeBorder(img, 2, 2, 2, 2, cv2.BORDER_CONSTANT, value=0);\n",
        "                img = cv2.blur(img, (2, 2));\n",
        "                cv2.imwrite(img_des ,img);\n",
        "                \n",
        "# Source Location for Dataset\n",
        "src = '/content/CervicalCancerDataset';\n",
        "# Destination Location for Dataset\n",
        "dest = './CervicalCancerFormattedDataset';\n",
        "# Image Classes\n",
        "classes = [\"Dyskeratotic\",\"Koilocytotic\",\"Metaplastic\",\"Parabasal\",\"Superficial-Intermediate\"];\n",
        "# Formatting Dataset\n",
        "FormatDataset(src, dest, classes);"
      ],
      "metadata": {
        "id": "LZO6J4oVtKMj"
      },
      "execution_count": null,
      "outputs": []
    },
    {
      "cell_type": "markdown",
      "source": [
        "# **Splitting the dataset into train,test,validation**"
      ],
      "metadata": {
        "id": "LtIsWSmwxqE0"
      }
    },
    {
      "cell_type": "code",
      "source": [
        "# Function for Creating Train / Validation / Test folders (One time use Only)\n",
        "\n",
        "def TrainValTestSplit(root_dir, classes_dir, main = \"CROPPED\", val_ratio = 0.15, test_ratio = 0.15):\n",
        "    for cls in classes_dir:\n",
        "        # Creating Split Folders\n",
        "        os.makedirs('CervicalCancerSplitDataset/train/' + cls)\n",
        "        os.makedirs('CervicalCancerSplitDataset/valid/' + cls)\n",
        "        os.makedirs('CervicalCancerSplitDataset/test/' + cls)\n",
        "\n",
        "        # Folder to copy images from\n",
        "        src = os.path.join(root_dir, cls, main);\n",
        "\n",
        "        # Spliting the Files in the Given ratio\n",
        "        allFileNames = os.listdir(src)\n",
        "        np.random.shuffle(allFileNames)\n",
        "        train_FileNames, val_FileNames, test_FileNames = np.split(np.array(allFileNames), [int(len(allFileNames)* (1 - (val_ratio + test_ratio))), int(len(allFileNames)* (1 - test_ratio))])\n",
        "\n",
        "        train_FileNames = [src+'/'+ name for name in train_FileNames.tolist()]\n",
        "        val_FileNames = [src+'/' + name for name in val_FileNames.tolist()]\n",
        "        test_FileNames = [src+'/' + name for name in test_FileNames.tolist()]\n",
        "\n",
        "        # Printing the Split Details\n",
        "        print(cls,':')\n",
        "        print('Total images: ', len(allFileNames))\n",
        "        print('Training: ', len(train_FileNames))\n",
        "        print('Validation: ', len(val_FileNames))\n",
        "        print('Testing: ', len(test_FileNames))\n",
        "\n",
        "        # Copy-pasting images\n",
        "        for name in train_FileNames:\n",
        "            shutil.copy(name, 'CervicalCancerSplitDataset/train/' + cls)\n",
        "\n",
        "        for name in val_FileNames:\n",
        "            shutil.copy(name, 'CervicalCancerSplitDataset/valid/' + cls)\n",
        "\n",
        "        for name in test_FileNames:\n",
        "            shutil.copy(name, 'CervicalCancerSplitDataset/test/' + cls)\n",
        "        print();\n",
        "        \n",
        "\n",
        "# Preforming Train / Validation / Test Split\n",
        "root_dir = \"./CervicalCancerFormattedDataset\"               # Dataset Root Folder\n",
        "classes_dir = [\"Dyskeratotic\", \"Koilocytotic\", \"Metaplastic\", \"Parabasal\", \"Superficial-Intermediate\"]   # Classes\n",
        "TrainValTestSplit(root_dir, classes_dir);"
      ],
      "metadata": {
        "colab": {
          "base_uri": "https://localhost:8080/"
        },
        "id": "Iu-Yn_8Uweel",
        "outputId": "c4f1a205-5cd9-4601-9506-92867a68fa5d"
      },
      "execution_count": null,
      "outputs": [
        {
          "output_type": "stream",
          "name": "stdout",
          "text": [
            "Dyskeratotic :\n",
            "Total images:  813\n",
            "Training:  569\n",
            "Validation:  122\n",
            "Testing:  122\n",
            "\n",
            "Koilocytotic :\n",
            "Total images:  825\n",
            "Training:  577\n",
            "Validation:  124\n",
            "Testing:  124\n",
            "\n",
            "Metaplastic :\n",
            "Total images:  793\n",
            "Training:  555\n",
            "Validation:  119\n",
            "Testing:  119\n",
            "\n",
            "Parabasal :\n",
            "Total images:  787\n",
            "Training:  550\n",
            "Validation:  118\n",
            "Testing:  119\n",
            "\n",
            "Superficial-Intermediate :\n",
            "Total images:  831\n",
            "Training:  581\n",
            "Validation:  125\n",
            "Testing:  125\n",
            "\n"
          ]
        }
      ]
    },
    {
      "cell_type": "code",
      "source": [
        "#@title **Utility to zip and download a directory**\n",
        "#@markdown Use this method to zip and download a directory. For ex. a TB logs \n",
        "#@markdown directory or a checkpoint(s) directory.\n",
        "\n",
        "from google.colab import files\n",
        "import os\n",
        "\n",
        "dir_to_zip = '/content/CervicalCancerSplitDataset' #@param {type: \"string\"}\n",
        "output_filename = 'CervicalCancerSplittedDataset.zip' #@param {type: \"string\"}\n",
        "delete_dir_after_download = \"No\"  #@param ['Yes', 'No']\n",
        "\n",
        "os.system( \"zip -r {} {}\".format( output_filename , dir_to_zip ) )\n",
        "\n",
        "if delete_dir_after_download == \"Yes\":\n",
        "    os.system( \"rm -r {}\".format( dir_to_zip ) )\n",
        "\n",
        "files.download( output_filename )"
      ],
      "metadata": {
        "colab": {
          "base_uri": "https://localhost:8080/",
          "height": 17
        },
        "id": "h4pdg9nLxAwj",
        "outputId": "10e18b08-316f-44bd-92c8-d3bd799fee4d"
      },
      "execution_count": null,
      "outputs": [
        {
          "output_type": "display_data",
          "data": {
            "text/plain": [
              "<IPython.core.display.Javascript object>"
            ],
            "application/javascript": [
              "\n",
              "    async function download(id, filename, size) {\n",
              "      if (!google.colab.kernel.accessAllowed) {\n",
              "        return;\n",
              "      }\n",
              "      const div = document.createElement('div');\n",
              "      const label = document.createElement('label');\n",
              "      label.textContent = `Downloading \"${filename}\": `;\n",
              "      div.appendChild(label);\n",
              "      const progress = document.createElement('progress');\n",
              "      progress.max = size;\n",
              "      div.appendChild(progress);\n",
              "      document.body.appendChild(div);\n",
              "\n",
              "      const buffers = [];\n",
              "      let downloaded = 0;\n",
              "\n",
              "      const channel = await google.colab.kernel.comms.open(id);\n",
              "      // Send a message to notify the kernel that we're ready.\n",
              "      channel.send({})\n",
              "\n",
              "      for await (const message of channel.messages) {\n",
              "        // Send a message to notify the kernel that we're ready.\n",
              "        channel.send({})\n",
              "        if (message.buffers) {\n",
              "          for (const buffer of message.buffers) {\n",
              "            buffers.push(buffer);\n",
              "            downloaded += buffer.byteLength;\n",
              "            progress.value = downloaded;\n",
              "          }\n",
              "        }\n",
              "      }\n",
              "      const blob = new Blob(buffers, {type: 'application/binary'});\n",
              "      const a = document.createElement('a');\n",
              "      a.href = window.URL.createObjectURL(blob);\n",
              "      a.download = filename;\n",
              "      div.appendChild(a);\n",
              "      a.click();\n",
              "      div.remove();\n",
              "    }\n",
              "  "
            ]
          },
          "metadata": {}
        },
        {
          "output_type": "display_data",
          "data": {
            "text/plain": [
              "<IPython.core.display.Javascript object>"
            ],
            "application/javascript": [
              "download(\"download_679cf8ac-7cef-4f80-a326-cd507323c941\", \"CervicalCancerSplittedDataset.zip\", 10396673)"
            ]
          },
          "metadata": {}
        }
      ]
    }
  ]
}