{
  "cells": [
    {
      "cell_type": "code",
      "execution_count": null,
      "metadata": {
        "id": "IFCLvmBBkQeh"
      },
      "outputs": [],
      "source": [
        "import numpy as np\n",
        "import random\n",
        "import cv2\n",
        "import os\n",
        "os.environ['TF_CPP_MIN_LOG_LEVEL'] = '2' \n",
        "from imutils import paths\n",
        "from sklearn.model_selection import train_test_split\n",
        "from sklearn.preprocessing import LabelBinarizer\n",
        "from sklearn.model_selection import train_test_split\n",
        "from sklearn.utils import shuffle\n",
        "from sklearn.metrics import accuracy_score"
      ]
    },
    {
      "cell_type": "code",
      "execution_count": null,
      "metadata": {
        "colab": {
          "base_uri": "https://localhost:8080/"
        },
        "id": "u9JZGW5BjdYy",
        "outputId": "dc60422f-a50d-459a-bb2c-7dd0a22b613c"
      },
      "outputs": [
        {
          "name": "stdout",
          "output_type": "stream",
          "text": [
            "Mounted at /content/drive\n"
          ]
        }
      ],
      "source": [
        "from google.colab import drive\n",
        "drive.mount('/content/drive')"
      ]
    },
    {
      "cell_type": "code",
      "execution_count": null,
      "metadata": {
        "id": "AXeBtz_Njokq"
      },
      "outputs": [],
      "source": [
        "!unzip \"/content/drive/MyDrive/Thesis_A_10/CervicalCancerTrainDataset.zip\" -d \"./CervicalCancerTrainingDataset/\""
      ]
    },
    {
      "cell_type": "code",
      "execution_count": null,
      "metadata": {
        "id": "qnJk8PuAjulB"
      },
      "outputs": [],
      "source": [
        "def load(paths, verbose=-1):\n",
        "    '''expects images for each class in seperate dir'''\n",
        "    data = list()\n",
        "    labels = list()\n",
        "    # loop over the input images\n",
        "    for (i, imgpath) in enumerate(paths):\n",
        "        # load the image and extract the class labels\n",
        "        im_gray = cv2.imread(imgpath, cv2.IMREAD_GRAYSCALE)\n",
        "        image = np.array(im_gray).flatten()\n",
        "        label = imgpath.split(os.path.sep)[-2] # Metaplastic, Parabasal, Koilocytotic, Superficial-Intermediate, Dyskeratotic\n",
        "        # scale the image to [0, 1] and add to list\n",
        "        data.append(image/255)\n",
        "        labels.append(label)\n",
        "        # show an update every `verbose` images\n",
        "        if verbose > 0 and i > 0 and (i + 1) % verbose == 0:\n",
        "            print(label);\n",
        "            print(\"[INFO] processed {}/{}\".format(i + 1, len(paths)))\n",
        "    # return a tuple of the data and labels\n",
        "    return data, labels"
      ]
    },
    {
      "cell_type": "code",
      "execution_count": null,
      "metadata": {
        "id": "b6KKBqkyjyig"
      },
      "outputs": [],
      "source": [
        "#declear path to your data folder\n",
        "img_path = '/content/CervicalCancerTrainingDataset'\n",
        "\n",
        "#get the path list using the path object\n",
        "image_paths = list(paths.list_images(img_path))\n",
        "\n",
        "#apply our function\n",
        "image_list, label_list = load(image_paths, verbose=10000)"
      ]
    },
    {
      "cell_type": "code",
      "execution_count": null,
      "metadata": {
        "colab": {
          "base_uri": "https://localhost:8080/"
        },
        "id": "4pQLyB5hO1WU",
        "outputId": "509bbc5a-5e62-4c3b-889d-011f302fed64"
      },
      "outputs": [
        {
          "name": "stdout",
          "output_type": "stream",
          "text": [
            "Looking in indexes: https://pypi.org/simple, https://us-python.pkg.dev/colab-wheels/public/simple/\n",
            "Collecting split-folders\n",
            "  Downloading split_folders-0.5.1-py3-none-any.whl (8.4 kB)\n",
            "Installing collected packages: split-folders\n",
            "Successfully installed split-folders-0.5.1\n"
          ]
        }
      ],
      "source": [
        "!pip install split-folders"
      ]
    },
    {
      "cell_type": "code",
      "execution_count": null,
      "metadata": {
        "colab": {
          "base_uri": "https://localhost:8080/"
        },
        "id": "_TdwPlddO8ew",
        "outputId": "fbc702da-4e88-4784-93ab-389923360d8b"
      },
      "outputs": [
        {
          "name": "stderr",
          "output_type": "stream",
          "text": [
            "Copying files: 4049 files [00:00, 6681.31 files/s]\n"
          ]
        }
      ],
      "source": [
        "import splitfolders\n",
        "splitfolders.ratio('/content/CervicalCancerTrainingDataset/CervicalCancerTrainDataset', output=\"output2\", seed=1337, ratio=(.7, 0,0.3)) "
      ]
    },
    {
      "cell_type": "markdown",
      "source": [
        "# data partition into 5 train-folders"
      ],
      "metadata": {
        "id": "duNOQxDSj9Tz"
      }
    },
    {
      "cell_type": "code",
      "execution_count": null,
      "metadata": {
        "id": "5RXIE532nGCl"
      },
      "outputs": [],
      "source": [
        "# Function for Creating Train / Validation / Test folders (One time use Only)\n",
        "import shutil\n",
        "def TrainSplitting(root_dir, classes_dir, main = \"\", val_ratio = 0.15, test_ratio = 0.15):\n",
        "    for cls in classes_dir:\n",
        "        # Creating Split Folders\n",
        "        os.makedirs('Client_1/' + cls)\n",
        "        os.makedirs('Client_2/' + cls)\n",
        "        os.makedirs('Client_3/' + cls)\n",
        "        os.makedirs('Client_4/' + cls)\n",
        "        os.makedirs('Client_5/' + cls)\n",
        "        \n",
        "        # Folder to copy images from\n",
        "        src = os.path.join(root_dir, cls, main);\n",
        "\n",
        "        # Spliting the Files in the Given ratio\n",
        "        allFileNames = os.listdir(src)\n",
        "        np.random.shuffle(allFileNames)\n",
        "\n",
        "        div=0.2\n",
        "        div_data_1=int(len(allFileNames)*(1-(div*4)));\n",
        "        div_data_2=int(len(allFileNames)*(1-(div*3)));\n",
        "        div_data_3=int(len(allFileNames)*(1-(div*2)));\n",
        "        div_data_4=int(len(allFileNames)*(1-(div)));\n",
        "\n",
        "        # print(div_data_1)\n",
        "        # print(div_data_2)\n",
        "        # print(div_data_3)\n",
        "        # print(div_data_4)\n",
        "\n",
        "        client1_FileNames, client2_FileNames, client3_FileNames, client4_FileNames, client5_FileNames = np.split(np.array(allFileNames), [div_data_1,div_data_2,div_data_3,div_data_4])\n",
        "\n",
        "        client1_FileNames = [src+'/'+ name for name in client1_FileNames.tolist()]\n",
        "        client2_FileNames = [src+'/' + name for name in client2_FileNames.tolist()]\n",
        "        client3_FileNames = [src+'/' + name for name in client3_FileNames.tolist()]\n",
        "        client4_FileNames = [src+'/' + name for name in client4_FileNames.tolist()]\n",
        "        client5_FileNames = [src+'/' + name for name in client5_FileNames.tolist()]\n",
        "\n",
        "        # Printing the Split Details\n",
        "        print(cls,':')\n",
        "        print('Total images: ', len(allFileNames))\n",
        "        print('Client_1: ', len(client1_FileNames))\n",
        "        print('Client_2: ', len(client2_FileNames))\n",
        "        print('Client_3: ', len(client3_FileNames))\n",
        "        print('Client_4: ', len(client4_FileNames))\n",
        "        print('Client_5: ', len(client5_FileNames))\n",
        "\n",
        "        # Copy-pasting images\n",
        "        for name in client1_FileNames:\n",
        "            shutil.copy(name, 'Client_1/' + cls)\n",
        "\n",
        "        for name in client2_FileNames:\n",
        "            shutil.copy(name, 'Client_2/' + cls)\n",
        "\n",
        "        for name in client3_FileNames:\n",
        "            shutil.copy(name, 'Client_3/' + cls)\n",
        "\n",
        "        for name in client4_FileNames:\n",
        "            shutil.copy(name, 'Client_4/' + cls)\n",
        "\n",
        "        for name in client5_FileNames:\n",
        "            shutil.copy(name, 'Client_5/' + cls)\n",
        "        print();\n",
        "        \n",
        "\n",
        "# Preforming Train / Validation / Test Split\n",
        "root_dir = \"/content/output2/client_models_train_dataset\"               # Dataset Root Folder\n",
        "classes_dir = [\"Dyskeratotic\", \"Koilocytotic\", \"Metaplastic\", \"Parabasal\", \"Superficial-Intermediate\"]   # Classes\n",
        "TrainSplitting(root_dir, classes_dir);"
      ]
    },
    {
      "cell_type": "markdown",
      "source": [
        "# Data partition into 3 train folders"
      ],
      "metadata": {
        "id": "LKOxXtaYj3CH"
      }
    },
    {
      "cell_type": "code",
      "execution_count": null,
      "metadata": {
        "colab": {
          "base_uri": "https://localhost:8080/"
        },
        "id": "C8t4vuaB8j3l",
        "outputId": "54181d17-938d-4557-f93c-bd9d03540c93"
      },
      "outputs": [
        {
          "name": "stdout",
          "output_type": "stream",
          "text": [
            "Dyskeratotic :\n",
            "Total images:  244\n",
            "Client_1:  82\n",
            "Client_2:  81\n",
            "Client_3:  81\n",
            "\n",
            "Koilocytotic :\n",
            "Total images:  248\n",
            "Client_1:  84\n",
            "Client_2:  82\n",
            "Client_3:  82\n",
            "\n",
            "Metaplastic :\n",
            "Total images:  238\n",
            "Client_1:  80\n",
            "Client_2:  79\n",
            "Client_3:  79\n",
            "\n",
            "Parabasal :\n",
            "Total images:  237\n",
            "Client_1:  80\n",
            "Client_2:  78\n",
            "Client_3:  79\n",
            "\n",
            "Superficial-Intermediate :\n",
            "Total images:  250\n",
            "Client_1:  84\n",
            "Client_2:  83\n",
            "Client_3:  83\n",
            "\n"
          ]
        }
      ],
      "source": [
        "# Function for Creating Train / Validation / Test folders (One time use Only)\n",
        "import shutil\n",
        "def TrainSplitting(root_dir, classes_dir, main = \"\", val_ratio = 0.15, test_ratio = 0.15):\n",
        "    for cls in classes_dir:\n",
        "        # Creating Split Folders\n",
        "        os.makedirs('Client_1/' + cls)\n",
        "        os.makedirs('Client_2/' + cls)\n",
        "        os.makedirs('Client_3/' + cls)\n",
        "\n",
        "        \n",
        "        # Folder to copy images from\n",
        "        src = os.path.join(root_dir, cls, main);\n",
        "\n",
        "        # Spliting the Files in the Given ratio\n",
        "        allFileNames = os.listdir(src)\n",
        "        np.random.shuffle(allFileNames)\n",
        "\n",
        "        div=0.33\n",
        "        div_data_3=int(len(allFileNames)*(1-(div*2)));\n",
        "        div_data_4=int(len(allFileNames)*(1-(div)));\n",
        "\n",
        "        # print(div_data_1)\n",
        "        # print(div_data_2)\n",
        "        # print(div_data_3)\n",
        "        # print(div_data_4)\n",
        "\n",
        "        client1_FileNames, client2_FileNames, client3_FileNames = np.split(np.array(allFileNames), [div_data_3,div_data_4])\n",
        "\n",
        "        client1_FileNames = [src+'/'+ name for name in client1_FileNames.tolist()]\n",
        "        client2_FileNames = [src+'/' + name for name in client2_FileNames.tolist()]\n",
        "        client3_FileNames = [src+'/' + name for name in client3_FileNames.tolist()]\n",
        "\n",
        "        # Printing the Split Details\n",
        "        print(cls,':')\n",
        "        print('Total images: ', len(allFileNames))\n",
        "        print('Client_1: ', len(client1_FileNames))\n",
        "        print('Client_2: ', len(client2_FileNames))\n",
        "        print('Client_3: ', len(client3_FileNames))\n",
        "\n",
        "        # Copy-pasting images\n",
        "        for name in client1_FileNames:\n",
        "            shutil.copy(name, 'Client_1/' + cls)\n",
        "\n",
        "        for name in client2_FileNames:\n",
        "            shutil.copy(name, 'Client_2/' + cls)\n",
        "\n",
        "        for name in client3_FileNames:\n",
        "            shutil.copy(name, 'Client_3/' + cls)\n",
        "        print();\n",
        "        \n",
        "\n",
        "# Preforming Train / Validation / Test Split\n",
        "root_dir = \"/content/output2/client_models_train_dataset\"               # Dataset Root Folder\n",
        "classes_dir = [\"Dyskeratotic\", \"Koilocytotic\", \"Metaplastic\", \"Parabasal\", \"Superficial-Intermediate\"]   # Classes\n",
        "TrainSplitting(root_dir, classes_dir);"
      ]
    },
    {
      "cell_type": "code",
      "execution_count": null,
      "metadata": {
        "colab": {
          "background_save": true,
          "base_uri": "https://localhost:8080/",
          "height": 17
        },
        "id": "rPYIf6UFyQDY",
        "outputId": "85b7215b-d9ac-489d-f5fd-96a2262e3109"
      },
      "outputs": [
        {
          "data": {
            "application/javascript": [
              "\n",
              "    async function download(id, filename, size) {\n",
              "      if (!google.colab.kernel.accessAllowed) {\n",
              "        return;\n",
              "      }\n",
              "      const div = document.createElement('div');\n",
              "      const label = document.createElement('label');\n",
              "      label.textContent = `Downloading \"${filename}\": `;\n",
              "      div.appendChild(label);\n",
              "      const progress = document.createElement('progress');\n",
              "      progress.max = size;\n",
              "      div.appendChild(progress);\n",
              "      document.body.appendChild(div);\n",
              "\n",
              "      const buffers = [];\n",
              "      let downloaded = 0;\n",
              "\n",
              "      const channel = await google.colab.kernel.comms.open(id);\n",
              "      // Send a message to notify the kernel that we're ready.\n",
              "      channel.send({})\n",
              "\n",
              "      for await (const message of channel.messages) {\n",
              "        // Send a message to notify the kernel that we're ready.\n",
              "        channel.send({})\n",
              "        if (message.buffers) {\n",
              "          for (const buffer of message.buffers) {\n",
              "            buffers.push(buffer);\n",
              "            downloaded += buffer.byteLength;\n",
              "            progress.value = downloaded;\n",
              "          }\n",
              "        }\n",
              "      }\n",
              "      const blob = new Blob(buffers, {type: 'application/binary'});\n",
              "      const a = document.createElement('a');\n",
              "      a.href = window.URL.createObjectURL(blob);\n",
              "      a.download = filename;\n",
              "      div.appendChild(a);\n",
              "      a.click();\n",
              "      div.remove();\n",
              "    }\n",
              "  "
            ],
            "text/plain": [
              "<IPython.core.display.Javascript object>"
            ]
          },
          "metadata": {},
          "output_type": "display_data"
        },
        {
          "data": {
            "application/javascript": [
              "download(\"download_859571e4-27b8-46a3-a197-12752df61acb\", \"Client_3.zip\", 8297343)"
            ],
            "text/plain": [
              "<IPython.core.display.Javascript object>"
            ]
          },
          "metadata": {},
          "output_type": "display_data"
        }
      ],
      "source": [
        "#@title **Utility to zip and download a directory**\n",
        "#@markdown Use this method to zip and download a directory. For ex. a TB logs \n",
        "#@markdown directory or a checkpoint(s) directory.\n",
        "\n",
        "from google.colab import files\n",
        "import os\n",
        "\n",
        "dir_to_zip = '/content/output2/global_model_train_dataset' #@param {type: \"string\"}\n",
        "output_filename = 'Client_3.zip' #@param {type: \"string\"}\n",
        "delete_dir_after_download = \"No\"  #@param ['Yes', 'No']\n",
        "\n",
        "os.system( \"zip -r {} {}\".format( output_filename , dir_to_zip ) )\n",
        "\n",
        "if delete_dir_after_download == \"Yes\":\n",
        "    os.system( \"rm -r {}\".format( dir_to_zip ) )\n",
        "\n",
        "files.download( output_filename )"
      ]
    }
  ],
  "metadata": {
    "colab": {
      "provenance": []
    },
    "kernelspec": {
      "display_name": "Python 3",
      "name": "python3"
    },
    "language_info": {
      "name": "python"
    }
  },
  "nbformat": 4,
  "nbformat_minor": 0
}